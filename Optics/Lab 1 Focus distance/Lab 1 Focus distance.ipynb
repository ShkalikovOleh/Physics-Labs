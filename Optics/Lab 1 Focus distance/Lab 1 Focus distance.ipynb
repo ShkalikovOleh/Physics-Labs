{
 "nbformat": 4,
 "nbformat_minor": 2,
 "metadata": {
  "language_info": {
   "name": "python",
   "codemirror_mode": {
    "name": "ipython",
    "version": 2
   },
   "version": "3.6.9-final"
  },
  "orig_nbformat": 2,
  "file_extension": ".py",
  "mimetype": "text/x-python",
  "name": "python",
  "npconvert_exporter": "python",
  "pygments_lexer": "ipython2",
  "version": 2,
  "kernelspec": {
   "name": "physicslabs",
   "display_name": "PhysicsLabs"
  }
 },
 "cells": [
  {
   "cell_type": "code",
   "execution_count": 21,
   "metadata": {},
   "outputs": [],
   "source": [
    "%matplotlib inline\n",
    "\n",
    "import pandas as pd\n",
    "import numpy as np\n",
    "import matplotlib.pyplot as plt"
   ]
  },
  {
   "cell_type": "code",
   "execution_count": 22,
   "metadata": {},
   "outputs": [
    {
     "output_type": "execute_result",
     "data": {
      "text/html": "<div>\n<style scoped>\n    .dataframe tbody tr th:only-of-type {\n        vertical-align: middle;\n    }\n\n    .dataframe tbody tr th {\n        vertical-align: top;\n    }\n\n    .dataframe thead th {\n        text-align: right;\n    }\n</style>\n<table border=\"1\" class=\"dataframe\">\n  <thead>\n    <tr style=\"text-align: right;\">\n      <th></th>\n      <th>screen</th>\n      <th>lense</th>\n      <th>object</th>\n    </tr>\n  </thead>\n  <tbody>\n    <tr>\n      <th>0</th>\n      <td>102.3</td>\n      <td>43.8</td>\n      <td>15</td>\n    </tr>\n    <tr>\n      <th>1</th>\n      <td>62.4</td>\n      <td>23.6</td>\n      <td>15</td>\n    </tr>\n    <tr>\n      <th>2</th>\n      <td>36.0</td>\n      <td>20.6</td>\n      <td>15</td>\n    </tr>\n    <tr>\n      <th>3</th>\n      <td>44.7</td>\n      <td>22.2</td>\n      <td>15</td>\n    </tr>\n  </tbody>\n</table>\n</div>",
      "text/plain": "   screen  lense  object\n0   102.3   43.8      15\n1    62.4   23.6      15\n2    36.0   20.6      15\n3    44.7   22.2      15"
     },
     "metadata": {},
     "execution_count": 22
    }
   ],
   "source": [
    "df = pd.read_csv(\"data.csv\")\n",
    "df"
   ]
  },
  {
   "cell_type": "code",
   "execution_count": 23,
   "metadata": {},
   "outputs": [
    {
     "output_type": "execute_result",
     "data": {
      "text/html": "<div>\n<style scoped>\n    .dataframe tbody tr th:only-of-type {\n        vertical-align: middle;\n    }\n\n    .dataframe tbody tr th {\n        vertical-align: top;\n    }\n\n    .dataframe thead th {\n        text-align: right;\n    }\n</style>\n<table border=\"1\" class=\"dataframe\">\n  <thead>\n    <tr style=\"text-align: right;\">\n      <th></th>\n      <th>screen</th>\n      <th>lense</th>\n      <th>object</th>\n    </tr>\n  </thead>\n  <tbody>\n    <tr>\n      <th>0</th>\n      <td>1.023</td>\n      <td>0.438</td>\n      <td>0.15</td>\n    </tr>\n    <tr>\n      <th>1</th>\n      <td>0.624</td>\n      <td>0.236</td>\n      <td>0.15</td>\n    </tr>\n    <tr>\n      <th>2</th>\n      <td>0.360</td>\n      <td>0.206</td>\n      <td>0.15</td>\n    </tr>\n    <tr>\n      <th>3</th>\n      <td>0.447</td>\n      <td>0.222</td>\n      <td>0.15</td>\n    </tr>\n  </tbody>\n</table>\n</div>",
      "text/plain": "   screen  lense  object\n0   1.023  0.438    0.15\n1   0.624  0.236    0.15\n2   0.360  0.206    0.15\n3   0.447  0.222    0.15"
     },
     "metadata": {},
     "execution_count": 23
    }
   ],
   "source": [
    "for column in df.columns:\n",
    "    df[column] = df.apply(lambda row: row[column] / 100, axis=1)\n",
    "\n",
    "df"
   ]
  },
  {
   "cell_type": "code",
   "execution_count": 24,
   "metadata": {},
   "outputs": [
    {
     "output_type": "execute_result",
     "data": {
      "text/html": "<div>\n<style scoped>\n    .dataframe tbody tr th:only-of-type {\n        vertical-align: middle;\n    }\n\n    .dataframe tbody tr th {\n        vertical-align: top;\n    }\n\n    .dataframe thead th {\n        text-align: right;\n    }\n</style>\n<table border=\"1\" class=\"dataframe\">\n  <thead>\n    <tr style=\"text-align: right;\">\n      <th></th>\n      <th>screen</th>\n      <th>lense</th>\n      <th>object</th>\n      <th>b</th>\n      <th>g</th>\n    </tr>\n  </thead>\n  <tbody>\n    <tr>\n      <th>0</th>\n      <td>1.023</td>\n      <td>0.438</td>\n      <td>0.15</td>\n      <td>0.585</td>\n      <td>0.288</td>\n    </tr>\n    <tr>\n      <th>1</th>\n      <td>0.624</td>\n      <td>0.236</td>\n      <td>0.15</td>\n      <td>0.388</td>\n      <td>0.086</td>\n    </tr>\n    <tr>\n      <th>2</th>\n      <td>0.360</td>\n      <td>0.206</td>\n      <td>0.15</td>\n      <td>0.154</td>\n      <td>0.056</td>\n    </tr>\n    <tr>\n      <th>3</th>\n      <td>0.447</td>\n      <td>0.222</td>\n      <td>0.15</td>\n      <td>0.225</td>\n      <td>0.072</td>\n    </tr>\n  </tbody>\n</table>\n</div>",
      "text/plain": "   screen  lense  object      b      g\n0   1.023  0.438    0.15  0.585  0.288\n1   0.624  0.236    0.15  0.388  0.086\n2   0.360  0.206    0.15  0.154  0.056\n3   0.447  0.222    0.15  0.225  0.072"
     },
     "metadata": {},
     "execution_count": 24
    }
   ],
   "source": [
    "df['b'] = df.screen - df.lense\n",
    "df['g'] = df.lense - df.object\n",
    "df"
   ]
  },
  {
   "cell_type": "code",
   "execution_count": 25,
   "metadata": {},
   "outputs": [
    {
     "output_type": "execute_result",
     "data": {
      "text/html": "<div>\n<style scoped>\n    .dataframe tbody tr th:only-of-type {\n        vertical-align: middle;\n    }\n\n    .dataframe tbody tr th {\n        vertical-align: top;\n    }\n\n    .dataframe thead th {\n        text-align: right;\n    }\n</style>\n<table border=\"1\" class=\"dataframe\">\n  <thead>\n    <tr style=\"text-align: right;\">\n      <th></th>\n      <th>screen</th>\n      <th>lense</th>\n      <th>object</th>\n      <th>b</th>\n      <th>g</th>\n      <th>f</th>\n    </tr>\n  </thead>\n  <tbody>\n    <tr>\n      <th>0</th>\n      <td>1.023</td>\n      <td>0.438</td>\n      <td>0.15</td>\n      <td>0.585</td>\n      <td>0.288</td>\n      <td>0.192990</td>\n    </tr>\n    <tr>\n      <th>1</th>\n      <td>0.624</td>\n      <td>0.236</td>\n      <td>0.15</td>\n      <td>0.388</td>\n      <td>0.086</td>\n      <td>0.070397</td>\n    </tr>\n    <tr>\n      <th>2</th>\n      <td>0.360</td>\n      <td>0.206</td>\n      <td>0.15</td>\n      <td>0.154</td>\n      <td>0.056</td>\n      <td>0.041067</td>\n    </tr>\n    <tr>\n      <th>3</th>\n      <td>0.447</td>\n      <td>0.222</td>\n      <td>0.15</td>\n      <td>0.225</td>\n      <td>0.072</td>\n      <td>0.054545</td>\n    </tr>\n  </tbody>\n</table>\n</div>",
      "text/plain": "   screen  lense  object      b      g         f\n0   1.023  0.438    0.15  0.585  0.288  0.192990\n1   0.624  0.236    0.15  0.388  0.086  0.070397\n2   0.360  0.206    0.15  0.154  0.056  0.041067\n3   0.447  0.222    0.15  0.225  0.072  0.054545"
     },
     "metadata": {},
     "execution_count": 25
    }
   ],
   "source": [
    "df['f'] = (df.b * df.g) / (df.b + df.g)\n",
    "df"
   ]
  },
  {
   "cell_type": "code",
   "execution_count": 26,
   "metadata": {},
   "outputs": [
    {
     "output_type": "execute_result",
     "data": {
      "text/html": "<div>\n<style scoped>\n    .dataframe tbody tr th:only-of-type {\n        vertical-align: middle;\n    }\n\n    .dataframe tbody tr th {\n        vertical-align: top;\n    }\n\n    .dataframe thead th {\n        text-align: right;\n    }\n</style>\n<table border=\"1\" class=\"dataframe\">\n  <thead>\n    <tr style=\"text-align: right;\">\n      <th></th>\n      <th>screen</th>\n      <th>lense</th>\n      <th>object</th>\n      <th>b</th>\n      <th>g</th>\n      <th>f</th>\n      <th>V</th>\n    </tr>\n  </thead>\n  <tbody>\n    <tr>\n      <th>0</th>\n      <td>1.023</td>\n      <td>0.438</td>\n      <td>0.15</td>\n      <td>0.585</td>\n      <td>0.288</td>\n      <td>0.192990</td>\n      <td>2.031250</td>\n    </tr>\n    <tr>\n      <th>1</th>\n      <td>0.624</td>\n      <td>0.236</td>\n      <td>0.15</td>\n      <td>0.388</td>\n      <td>0.086</td>\n      <td>0.070397</td>\n      <td>4.511628</td>\n    </tr>\n    <tr>\n      <th>2</th>\n      <td>0.360</td>\n      <td>0.206</td>\n      <td>0.15</td>\n      <td>0.154</td>\n      <td>0.056</td>\n      <td>0.041067</td>\n      <td>2.750000</td>\n    </tr>\n    <tr>\n      <th>3</th>\n      <td>0.447</td>\n      <td>0.222</td>\n      <td>0.15</td>\n      <td>0.225</td>\n      <td>0.072</td>\n      <td>0.054545</td>\n      <td>3.125000</td>\n    </tr>\n  </tbody>\n</table>\n</div>",
      "text/plain": "   screen  lense  object      b      g         f         V\n0   1.023  0.438    0.15  0.585  0.288  0.192990  2.031250\n1   0.624  0.236    0.15  0.388  0.086  0.070397  4.511628\n2   0.360  0.206    0.15  0.154  0.056  0.041067  2.750000\n3   0.447  0.222    0.15  0.225  0.072  0.054545  3.125000"
     },
     "metadata": {},
     "execution_count": 26
    }
   ],
   "source": [
    "df['V'] = df.b / df.g\n",
    "df"
   ]
  },
  {
   "cell_type": "code",
   "execution_count": 30,
   "metadata": {},
   "outputs": [
    {
     "output_type": "execute_result",
     "data": {
      "text/html": "<div>\n<style scoped>\n    .dataframe tbody tr th:only-of-type {\n        vertical-align: middle;\n    }\n\n    .dataframe tbody tr th {\n        vertical-align: top;\n    }\n\n    .dataframe thead th {\n        text-align: right;\n    }\n</style>\n<table border=\"1\" class=\"dataframe\">\n  <thead>\n    <tr style=\"text-align: right;\">\n      <th></th>\n      <th>screen</th>\n      <th>lense</th>\n      <th>object</th>\n      <th>b</th>\n      <th>g</th>\n      <th>f</th>\n      <th>V</th>\n      <th>ef</th>\n      <th>eV</th>\n      <th>ref</th>\n      <th>reV</th>\n    </tr>\n  </thead>\n  <tbody>\n    <tr>\n      <th>0</th>\n      <td>1.023</td>\n      <td>0.438</td>\n      <td>0.15</td>\n      <td>0.585</td>\n      <td>0.288</td>\n      <td>0.192990</td>\n      <td>2.031250</td>\n      <td>0.004620</td>\n      <td>0.007861</td>\n      <td>0.002394</td>\n      <td>0.003870</td>\n    </tr>\n    <tr>\n      <th>1</th>\n      <td>0.624</td>\n      <td>0.236</td>\n      <td>0.15</td>\n      <td>0.388</td>\n      <td>0.086</td>\n      <td>0.070397</td>\n      <td>4.511628</td>\n      <td>0.006709</td>\n      <td>0.053734</td>\n      <td>0.009530</td>\n      <td>0.011910</td>\n    </tr>\n    <tr>\n      <th>2</th>\n      <td>0.360</td>\n      <td>0.206</td>\n      <td>0.15</td>\n      <td>0.154</td>\n      <td>0.056</td>\n      <td>0.041067</td>\n      <td>2.750000</td>\n      <td>0.005425</td>\n      <td>0.052253</td>\n      <td>0.013209</td>\n      <td>0.019001</td>\n    </tr>\n    <tr>\n      <th>3</th>\n      <td>0.447</td>\n      <td>0.222</td>\n      <td>0.15</td>\n      <td>0.225</td>\n      <td>0.072</td>\n      <td>0.054545</td>\n      <td>3.125000</td>\n      <td>0.005769</td>\n      <td>0.045571</td>\n      <td>0.010577</td>\n      <td>0.014583</td>\n    </tr>\n  </tbody>\n</table>\n</div>",
      "text/plain": "   screen  lense  object      b      g         f         V        ef  \\\n0   1.023  0.438    0.15  0.585  0.288  0.192990  2.031250  0.004620   \n1   0.624  0.236    0.15  0.388  0.086  0.070397  4.511628  0.006709   \n2   0.360  0.206    0.15  0.154  0.056  0.041067  2.750000  0.005425   \n3   0.447  0.222    0.15  0.225  0.072  0.054545  3.125000  0.005769   \n\n         eV       ref       reV  \n0  0.007861  0.002394  0.003870  \n1  0.053734  0.009530  0.011910  \n2  0.052253  0.013209  0.019001  \n3  0.045571  0.010577  0.014583  "
     },
     "metadata": {},
     "execution_count": 30
    }
   ],
   "source": [
    "dg = 0.01 \n",
    "db = 0.01\n",
    "\n",
    "egf = df.b ** 4 * dg ** 2 / (df.b + df.g)**4\n",
    "ebf = df.g ** 4 * db ** 2 / (df.b + df.g)**4\n",
    "df['ef'] = np.sqrt(egf + ebf)\n",
    "df"
   ]
  },
  {
   "cell_type": "code",
   "execution_count": 31,
   "metadata": {},
   "outputs": [
    {
     "output_type": "execute_result",
     "data": {
      "text/html": "<div>\n<style scoped>\n    .dataframe tbody tr th:only-of-type {\n        vertical-align: middle;\n    }\n\n    .dataframe tbody tr th {\n        vertical-align: top;\n    }\n\n    .dataframe thead th {\n        text-align: right;\n    }\n</style>\n<table border=\"1\" class=\"dataframe\">\n  <thead>\n    <tr style=\"text-align: right;\">\n      <th></th>\n      <th>screen</th>\n      <th>lense</th>\n      <th>object</th>\n      <th>b</th>\n      <th>g</th>\n      <th>f</th>\n      <th>V</th>\n      <th>ef</th>\n      <th>eV</th>\n      <th>ref</th>\n      <th>reV</th>\n    </tr>\n  </thead>\n  <tbody>\n    <tr>\n      <th>0</th>\n      <td>1.023</td>\n      <td>0.438</td>\n      <td>0.15</td>\n      <td>0.585</td>\n      <td>0.288</td>\n      <td>0.192990</td>\n      <td>2.031250</td>\n      <td>0.004620</td>\n      <td>0.078613</td>\n      <td>0.002394</td>\n      <td>0.003870</td>\n    </tr>\n    <tr>\n      <th>1</th>\n      <td>0.624</td>\n      <td>0.236</td>\n      <td>0.15</td>\n      <td>0.388</td>\n      <td>0.086</td>\n      <td>0.070397</td>\n      <td>4.511628</td>\n      <td>0.006709</td>\n      <td>0.537340</td>\n      <td>0.009530</td>\n      <td>0.011910</td>\n    </tr>\n    <tr>\n      <th>2</th>\n      <td>0.360</td>\n      <td>0.206</td>\n      <td>0.15</td>\n      <td>0.154</td>\n      <td>0.056</td>\n      <td>0.041067</td>\n      <td>2.750000</td>\n      <td>0.005425</td>\n      <td>0.522531</td>\n      <td>0.013209</td>\n      <td>0.019001</td>\n    </tr>\n    <tr>\n      <th>3</th>\n      <td>0.447</td>\n      <td>0.222</td>\n      <td>0.15</td>\n      <td>0.225</td>\n      <td>0.072</td>\n      <td>0.054545</td>\n      <td>3.125000</td>\n      <td>0.005769</td>\n      <td>0.455708</td>\n      <td>0.010577</td>\n      <td>0.014583</td>\n    </tr>\n  </tbody>\n</table>\n</div>",
      "text/plain": "   screen  lense  object      b      g         f         V        ef  \\\n0   1.023  0.438    0.15  0.585  0.288  0.192990  2.031250  0.004620   \n1   0.624  0.236    0.15  0.388  0.086  0.070397  4.511628  0.006709   \n2   0.360  0.206    0.15  0.154  0.056  0.041067  2.750000  0.005425   \n3   0.447  0.222    0.15  0.225  0.072  0.054545  3.125000  0.005769   \n\n         eV       ref       reV  \n0  0.078613  0.002394  0.003870  \n1  0.537340  0.009530  0.011910  \n2  0.522531  0.013209  0.019001  \n3  0.455708  0.010577  0.014583  "
     },
     "metadata": {},
     "execution_count": 31
    }
   ],
   "source": [
    "egV = df.b ** 2 * dg ** 2 / df.g**4\n",
    "ebV = db ** 2 / df.g**2\n",
    "df['eV'] = np.sqrt(egV + ebV)\n",
    "df"
   ]
  },
  {
   "cell_type": "code",
   "execution_count": 32,
   "metadata": {},
   "outputs": [
    {
     "output_type": "execute_result",
     "data": {
      "text/html": "<div>\n<style scoped>\n    .dataframe tbody tr th:only-of-type {\n        vertical-align: middle;\n    }\n\n    .dataframe tbody tr th {\n        vertical-align: top;\n    }\n\n    .dataframe thead th {\n        text-align: right;\n    }\n</style>\n<table border=\"1\" class=\"dataframe\">\n  <thead>\n    <tr style=\"text-align: right;\">\n      <th></th>\n      <th>screen</th>\n      <th>lense</th>\n      <th>object</th>\n      <th>b</th>\n      <th>g</th>\n      <th>f</th>\n      <th>V</th>\n      <th>ef</th>\n      <th>eV</th>\n      <th>ref</th>\n      <th>reV</th>\n    </tr>\n  </thead>\n  <tbody>\n    <tr>\n      <th>0</th>\n      <td>1.023</td>\n      <td>0.438</td>\n      <td>0.15</td>\n      <td>0.585</td>\n      <td>0.288</td>\n      <td>0.192990</td>\n      <td>2.031250</td>\n      <td>0.004620</td>\n      <td>0.078613</td>\n      <td>0.023941</td>\n      <td>0.038702</td>\n    </tr>\n    <tr>\n      <th>1</th>\n      <td>0.624</td>\n      <td>0.236</td>\n      <td>0.15</td>\n      <td>0.388</td>\n      <td>0.086</td>\n      <td>0.070397</td>\n      <td>4.511628</td>\n      <td>0.006709</td>\n      <td>0.537340</td>\n      <td>0.095297</td>\n      <td>0.119101</td>\n    </tr>\n    <tr>\n      <th>2</th>\n      <td>0.360</td>\n      <td>0.206</td>\n      <td>0.15</td>\n      <td>0.154</td>\n      <td>0.056</td>\n      <td>0.041067</td>\n      <td>2.750000</td>\n      <td>0.005425</td>\n      <td>0.522531</td>\n      <td>0.132092</td>\n      <td>0.190011</td>\n    </tr>\n    <tr>\n      <th>3</th>\n      <td>0.447</td>\n      <td>0.222</td>\n      <td>0.15</td>\n      <td>0.225</td>\n      <td>0.072</td>\n      <td>0.054545</td>\n      <td>3.125000</td>\n      <td>0.005769</td>\n      <td>0.455708</td>\n      <td>0.105769</td>\n      <td>0.145827</td>\n    </tr>\n  </tbody>\n</table>\n</div>",
      "text/plain": "   screen  lense  object      b      g         f         V        ef  \\\n0   1.023  0.438    0.15  0.585  0.288  0.192990  2.031250  0.004620   \n1   0.624  0.236    0.15  0.388  0.086  0.070397  4.511628  0.006709   \n2   0.360  0.206    0.15  0.154  0.056  0.041067  2.750000  0.005425   \n3   0.447  0.222    0.15  0.225  0.072  0.054545  3.125000  0.005769   \n\n         eV       ref       reV  \n0  0.078613  0.023941  0.038702  \n1  0.537340  0.095297  0.119101  \n2  0.522531  0.132092  0.190011  \n3  0.455708  0.105769  0.145827  "
     },
     "metadata": {},
     "execution_count": 32
    }
   ],
   "source": [
    "df['ref'] = df.ef / df.f\n",
    "df['reV'] = df.eV / df.V\n",
    "df"
   ]
  }
 ]
}