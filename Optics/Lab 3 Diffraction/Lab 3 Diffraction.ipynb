{
 "nbformat": 4,
 "nbformat_minor": 2,
 "metadata": {
  "language_info": {
   "name": "python",
   "codemirror_mode": {
    "name": "ipython",
    "version": 2
   },
   "version": "2.7.17-final"
  },
  "orig_nbformat": 2,
  "file_extension": ".py",
  "mimetype": "text/x-python",
  "name": "python",
  "npconvert_exporter": "python",
  "pygments_lexer": "ipython2",
  "version": 2,
  "kernelspec": {
   "name": "physicslabs",
   "display_name": "PhysicsLabs"
  }
 },
 "cells": [
  {
   "cell_type": "code",
   "execution_count": 18,
   "metadata": {},
   "outputs": [],
   "source": [
    "import pandas as pd\n",
    "import numpy as np"
   ]
  },
  {
   "cell_type": "code",
   "execution_count": 19,
   "metadata": {},
   "outputs": [],
   "source": [
    "df = pd.read_csv(\"data.csv\")\n",
    "df1 = df[df.i == 1]\n",
    "df2 = df[df.i == 2]"
   ]
  },
  {
   "cell_type": "code",
   "execution_count": 20,
   "metadata": {},
   "outputs": [
    {
     "output_type": "stream",
     "name": "stderr",
     "text": "/home/shov/PyEnvs/PhysicsLabs/lib/python3.6/site-packages/ipykernel_launcher.py:1: SettingWithCopyWarning: \nA value is trying to be set on a copy of a slice from a DataFrame.\nTry using .loc[row_indexer,col_indexer] = value instead\n\nSee the caveats in the documentation: http://pandas.pydata.org/pandas-docs/stable/user_guide/indexing.html#returning-a-view-versus-a-copy\n  \"\"\"Entry point for launching an IPython kernel.\n/home/shov/PyEnvs/PhysicsLabs/lib/python3.6/site-packages/ipykernel_launcher.py:2: SettingWithCopyWarning: \nA value is trying to be set on a copy of a slice from a DataFrame.\nTry using .loc[row_indexer,col_indexer] = value instead\n\nSee the caveats in the documentation: http://pandas.pydata.org/pandas-docs/stable/user_guide/indexing.html#returning-a-view-versus-a-copy\n  \n"
    }
   ],
   "source": [
    "df1['sin'] = np.sin(np.arctan(df1.x / df1.L))\n",
    "df2['sin'] = np.sin(np.arctan(df2.x / df2.L))"
   ]
  },
  {
   "cell_type": "code",
   "execution_count": 21,
   "metadata": {},
   "outputs": [
    {
     "output_type": "stream",
     "name": "stderr",
     "text": "/home/shov/PyEnvs/PhysicsLabs/lib/python3.6/site-packages/ipykernel_launcher.py:2: SettingWithCopyWarning: \nA value is trying to be set on a copy of a slice from a DataFrame.\nTry using .loc[row_indexer,col_indexer] = value instead\n\nSee the caveats in the documentation: http://pandas.pydata.org/pandas-docs/stable/user_guide/indexing.html#returning-a-view-versus-a-copy\n  \n/home/shov/PyEnvs/PhysicsLabs/lib/python3.6/site-packages/ipykernel_launcher.py:3: SettingWithCopyWarning: \nA value is trying to be set on a copy of a slice from a DataFrame.\nTry using .loc[row_indexer,col_indexer] = value instead\n\nSee the caveats in the documentation: http://pandas.pydata.org/pandas-docs/stable/user_guide/indexing.html#returning-a-view-versus-a-copy\n  This is separate from the ipykernel package so we can avoid doing imports until\n"
    }
   ],
   "source": [
    "wave = 632*10**-9\n",
    "df1['d'] = df1.n * wave / df1.sin\n",
    "df2['d'] = df2.n * wave / df2.sin"
   ]
  },
  {
   "cell_type": "code",
   "execution_count": 22,
   "metadata": {},
   "outputs": [
    {
     "output_type": "stream",
     "name": "stderr",
     "text": "/home/shov/PyEnvs/PhysicsLabs/lib/python3.6/site-packages/ipykernel_launcher.py:1: SettingWithCopyWarning: \nA value is trying to be set on a copy of a slice from a DataFrame.\nTry using .loc[row_indexer,col_indexer] = value instead\n\nSee the caveats in the documentation: http://pandas.pydata.org/pandas-docs/stable/user_guide/indexing.html#returning-a-view-versus-a-copy\n  \"\"\"Entry point for launching an IPython kernel.\n/home/shov/PyEnvs/PhysicsLabs/lib/python3.6/site-packages/ipykernel_launcher.py:2: SettingWithCopyWarning: \nA value is trying to be set on a copy of a slice from a DataFrame.\nTry using .loc[row_indexer,col_indexer] = value instead\n\nSee the caveats in the documentation: http://pandas.pydata.org/pandas-docs/stable/user_guide/indexing.html#returning-a-view-versus-a-copy\n  \n"
    }
   ],
   "source": [
    "df1['dd'] = np.abs(df1.d.mean() - df1.d)\n",
    "df2['dd'] = np.abs(df2.d.mean() - df2.d)"
   ]
  },
  {
   "cell_type": "code",
   "execution_count": 23,
   "metadata": {},
   "outputs": [
    {
     "output_type": "execute_result",
     "data": {
      "text/html": "<div>\n<style scoped>\n    .dataframe tbody tr th:only-of-type {\n        vertical-align: middle;\n    }\n\n    .dataframe tbody tr th {\n        vertical-align: top;\n    }\n\n    .dataframe thead th {\n        text-align: right;\n    }\n</style>\n<table border=\"1\" class=\"dataframe\">\n  <thead>\n    <tr style=\"text-align: right;\">\n      <th></th>\n      <th>L</th>\n      <th>n</th>\n      <th>x</th>\n      <th>i</th>\n      <th>sin</th>\n      <th>d</th>\n      <th>dd</th>\n    </tr>\n  </thead>\n  <tbody>\n    <tr>\n      <th>0</th>\n      <td>66.5</td>\n      <td>1</td>\n      <td>1.1</td>\n      <td>1</td>\n      <td>0.016539</td>\n      <td>0.000038</td>\n      <td>4.367152e-07</td>\n    </tr>\n    <tr>\n      <th>1</th>\n      <td>66.5</td>\n      <td>2</td>\n      <td>2.2</td>\n      <td>1</td>\n      <td>0.033065</td>\n      <td>0.000038</td>\n      <td>4.210393e-07</td>\n    </tr>\n    <tr>\n      <th>2</th>\n      <td>66.5</td>\n      <td>3</td>\n      <td>3.3</td>\n      <td>1</td>\n      <td>0.049563</td>\n      <td>0.000038</td>\n      <td>3.949272e-07</td>\n    </tr>\n    <tr>\n      <th>3</th>\n      <td>66.5</td>\n      <td>4</td>\n      <td>4.3</td>\n      <td>1</td>\n      <td>0.064527</td>\n      <td>0.000039</td>\n      <td>5.282464e-07</td>\n    </tr>\n    <tr>\n      <th>4</th>\n      <td>66.5</td>\n      <td>5</td>\n      <td>5.4</td>\n      <td>1</td>\n      <td>0.080937</td>\n      <td>0.000039</td>\n      <td>3.936902e-07</td>\n    </tr>\n    <tr>\n      <th>5</th>\n      <td>66.5</td>\n      <td>6</td>\n      <td>6.5</td>\n      <td>1</td>\n      <td>0.097281</td>\n      <td>0.000039</td>\n      <td>3.307451e-07</td>\n    </tr>\n  </tbody>\n</table>\n</div>",
      "text/plain": "      L  n    x  i       sin         d            dd\n0  66.5  1  1.1  1  0.016539  0.000038  4.367152e-07\n1  66.5  2  2.2  1  0.033065  0.000038  4.210393e-07\n2  66.5  3  3.3  1  0.049563  0.000038  3.949272e-07\n3  66.5  4  4.3  1  0.064527  0.000039  5.282464e-07\n4  66.5  5  5.4  1  0.080937  0.000039  3.936902e-07\n5  66.5  6  6.5  1  0.097281  0.000039  3.307451e-07"
     },
     "metadata": {},
     "execution_count": 23
    }
   ],
   "source": [
    "df1"
   ]
  },
  {
   "cell_type": "code",
   "execution_count": 24,
   "metadata": {},
   "outputs": [
    {
     "output_type": "execute_result",
     "data": {
      "text/html": "<div>\n<style scoped>\n    .dataframe tbody tr th:only-of-type {\n        vertical-align: middle;\n    }\n\n    .dataframe tbody tr th {\n        vertical-align: top;\n    }\n\n    .dataframe thead th {\n        text-align: right;\n    }\n</style>\n<table border=\"1\" class=\"dataframe\">\n  <thead>\n    <tr style=\"text-align: right;\">\n      <th></th>\n      <th>L</th>\n      <th>n</th>\n      <th>x</th>\n      <th>i</th>\n      <th>sin</th>\n      <th>d</th>\n      <th>dd</th>\n    </tr>\n  </thead>\n  <tbody>\n    <tr>\n      <th>6</th>\n      <td>21.2</td>\n      <td>1</td>\n      <td>3.7</td>\n      <td>2</td>\n      <td>0.171929</td>\n      <td>0.000004</td>\n      <td>0.000002</td>\n    </tr>\n    <tr>\n      <th>7</th>\n      <td>21.2</td>\n      <td>2</td>\n      <td>3.8</td>\n      <td>2</td>\n      <td>0.176433</td>\n      <td>0.000007</td>\n      <td>0.000002</td>\n    </tr>\n  </tbody>\n</table>\n</div>",
      "text/plain": "      L  n    x  i       sin         d        dd\n6  21.2  1  3.7  2  0.171929  0.000004  0.000002\n7  21.2  2  3.8  2  0.176433  0.000007  0.000002"
     },
     "metadata": {},
     "execution_count": 24
    }
   ],
   "source": [
    "df2"
   ]
  },
  {
   "cell_type": "code",
   "execution_count": 25,
   "metadata": {},
   "outputs": [
    {
     "output_type": "stream",
     "name": "stdout",
     "text": "1.8862575591209256e-07\n"
    }
   ],
   "source": [
    "dd1 = df1.d.std(ddof=1) / np.sqrt(len(df1))\n",
    "print(dd1)"
   ]
  },
  {
   "cell_type": "code",
   "execution_count": 26,
   "metadata": {},
   "outputs": [
    {
     "output_type": "stream",
     "name": "stdout",
     "text": "1.8862575591209256e-07\n"
    }
   ],
   "source": [
    "dd2 = df2.d.std(ddof=1) / np.sqrt(len(df2))\n",
    "print(dd1)"
   ]
  },
  {
   "cell_type": "code",
   "execution_count": 27,
   "metadata": {},
   "outputs": [
    {
     "output_type": "stream",
     "name": "stdout",
     "text": "0.48804550844981137\n3.4801468206814015\n"
    }
   ],
   "source": [
    "print(dd1 / df1.d.mean() * 100)\n",
    "print(dd1 / df2.d.mean() * 100)"
   ]
  }
 ]
}