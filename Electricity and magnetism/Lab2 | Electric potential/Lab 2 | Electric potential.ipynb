{
 "cells": [
  {
   "cell_type": "code",
   "execution_count": 85,
   "metadata": {},
   "outputs": [],
   "source": [
    "%matplotlib inline\n",
    "import matplotlib.pyplot as plt\n",
    "import pandas as pd\n",
    "import numpy as np\n",
    "import scipy.linalg\n",
    "import scipy.constants as consts"
   ]
  },
  {
   "cell_type": "code",
   "execution_count": 86,
   "metadata": {},
   "outputs": [
    {
     "data": {
      "text/html": [
       "<div>\n",
       "<style scoped>\n",
       "    .dataframe tbody tr th:only-of-type {\n",
       "        vertical-align: middle;\n",
       "    }\n",
       "\n",
       "    .dataframe tbody tr th {\n",
       "        vertical-align: top;\n",
       "    }\n",
       "\n",
       "    .dataframe thead th {\n",
       "        text-align: right;\n",
       "    }\n",
       "</style>\n",
       "<table border=\"1\" class=\"dataframe\">\n",
       "  <thead>\n",
       "    <tr style=\"text-align: right;\">\n",
       "      <th></th>\n",
       "      <th>phi</th>\n",
       "      <th>R</th>\n",
       "      <th>U</th>\n",
       "    </tr>\n",
       "  </thead>\n",
       "  <tbody>\n",
       "    <tr>\n",
       "      <td>0</td>\n",
       "      <td>2500.0</td>\n",
       "      <td>0.0600</td>\n",
       "      <td>60</td>\n",
       "    </tr>\n",
       "    <tr>\n",
       "      <td>1</td>\n",
       "      <td>2500.0</td>\n",
       "      <td>0.0580</td>\n",
       "      <td>60</td>\n",
       "    </tr>\n",
       "    <tr>\n",
       "      <td>2</td>\n",
       "      <td>2500.0</td>\n",
       "      <td>0.0610</td>\n",
       "      <td>60</td>\n",
       "    </tr>\n",
       "    <tr>\n",
       "      <td>3</td>\n",
       "      <td>5000.0</td>\n",
       "      <td>0.0800</td>\n",
       "      <td>60</td>\n",
       "    </tr>\n",
       "    <tr>\n",
       "      <td>4</td>\n",
       "      <td>5000.0</td>\n",
       "      <td>0.0810</td>\n",
       "      <td>60</td>\n",
       "    </tr>\n",
       "    <tr>\n",
       "      <td>5</td>\n",
       "      <td>5000.0</td>\n",
       "      <td>0.0795</td>\n",
       "      <td>60</td>\n",
       "    </tr>\n",
       "    <tr>\n",
       "      <td>6</td>\n",
       "      <td>7500.0</td>\n",
       "      <td>0.0990</td>\n",
       "      <td>60</td>\n",
       "    </tr>\n",
       "    <tr>\n",
       "      <td>7</td>\n",
       "      <td>7500.0</td>\n",
       "      <td>0.1000</td>\n",
       "      <td>60</td>\n",
       "    </tr>\n",
       "    <tr>\n",
       "      <td>8</td>\n",
       "      <td>7500.0</td>\n",
       "      <td>0.1010</td>\n",
       "      <td>60</td>\n",
       "    </tr>\n",
       "    <tr>\n",
       "      <td>9</td>\n",
       "      <td>10000.0</td>\n",
       "      <td>0.1240</td>\n",
       "      <td>60</td>\n",
       "    </tr>\n",
       "    <tr>\n",
       "      <td>10</td>\n",
       "      <td>10000.0</td>\n",
       "      <td>0.1250</td>\n",
       "      <td>60</td>\n",
       "    </tr>\n",
       "    <tr>\n",
       "      <td>11</td>\n",
       "      <td>10000.0</td>\n",
       "      <td>0.1250</td>\n",
       "      <td>60</td>\n",
       "    </tr>\n",
       "    <tr>\n",
       "      <td>12</td>\n",
       "      <td>12500.0</td>\n",
       "      <td>0.1510</td>\n",
       "      <td>60</td>\n",
       "    </tr>\n",
       "    <tr>\n",
       "      <td>13</td>\n",
       "      <td>12500.0</td>\n",
       "      <td>0.1500</td>\n",
       "      <td>60</td>\n",
       "    </tr>\n",
       "    <tr>\n",
       "      <td>14</td>\n",
       "      <td>12500.0</td>\n",
       "      <td>0.1500</td>\n",
       "      <td>60</td>\n",
       "    </tr>\n",
       "  </tbody>\n",
       "</table>\n",
       "</div>"
      ],
      "text/plain": [
       "        phi       R   U\n",
       "0    2500.0  0.0600  60\n",
       "1    2500.0  0.0580  60\n",
       "2    2500.0  0.0610  60\n",
       "3    5000.0  0.0800  60\n",
       "4    5000.0  0.0810  60\n",
       "5    5000.0  0.0795  60\n",
       "6    7500.0  0.0990  60\n",
       "7    7500.0  0.1000  60\n",
       "8    7500.0  0.1010  60\n",
       "9   10000.0  0.1240  60\n",
       "10  10000.0  0.1250  60\n",
       "11  10000.0  0.1250  60\n",
       "12  12500.0  0.1510  60\n",
       "13  12500.0  0.1500  60\n",
       "14  12500.0  0.1500  60"
      ]
     },
     "execution_count": 86,
     "metadata": {},
     "output_type": "execute_result"
    }
   ],
   "source": [
    "df = pd.read_csv(\"Lab2.csv\")\n",
    "df['R'] = df.apply(lambda row: row['R'] / 100 ,axis = 1)\n",
    "df['phi'] = df.apply(lambda row: row['phi'] * 1000,axis = 1)\n",
    "df"
   ]
  },
  {
   "cell_type": "code",
   "execution_count": 87,
   "metadata": {},
   "outputs": [
    {
     "data": {
      "text/html": [
       "<div>\n",
       "<style scoped>\n",
       "    .dataframe tbody tr th:only-of-type {\n",
       "        vertical-align: middle;\n",
       "    }\n",
       "\n",
       "    .dataframe tbody tr th {\n",
       "        vertical-align: top;\n",
       "    }\n",
       "\n",
       "    .dataframe thead th {\n",
       "        text-align: right;\n",
       "    }\n",
       "</style>\n",
       "<table border=\"1\" class=\"dataframe\">\n",
       "  <thead>\n",
       "    <tr style=\"text-align: right;\">\n",
       "      <th></th>\n",
       "      <th>U</th>\n",
       "      <th>phi</th>\n",
       "      <th>R</th>\n",
       "    </tr>\n",
       "  </thead>\n",
       "  <tbody>\n",
       "    <tr>\n",
       "      <td>0</td>\n",
       "      <td>60</td>\n",
       "      <td>2500.0</td>\n",
       "      <td>0.059667</td>\n",
       "    </tr>\n",
       "    <tr>\n",
       "      <td>1</td>\n",
       "      <td>60</td>\n",
       "      <td>5000.0</td>\n",
       "      <td>0.080167</td>\n",
       "    </tr>\n",
       "    <tr>\n",
       "      <td>2</td>\n",
       "      <td>60</td>\n",
       "      <td>7500.0</td>\n",
       "      <td>0.100000</td>\n",
       "    </tr>\n",
       "    <tr>\n",
       "      <td>3</td>\n",
       "      <td>60</td>\n",
       "      <td>10000.0</td>\n",
       "      <td>0.124667</td>\n",
       "    </tr>\n",
       "    <tr>\n",
       "      <td>4</td>\n",
       "      <td>60</td>\n",
       "      <td>12500.0</td>\n",
       "      <td>0.150333</td>\n",
       "    </tr>\n",
       "  </tbody>\n",
       "</table>\n",
       "</div>"
      ],
      "text/plain": [
       "    U      phi         R\n",
       "0  60   2500.0  0.059667\n",
       "1  60   5000.0  0.080167\n",
       "2  60   7500.0  0.100000\n",
       "3  60  10000.0  0.124667\n",
       "4  60  12500.0  0.150333"
      ]
     },
     "execution_count": 87,
     "metadata": {},
     "output_type": "execute_result"
    }
   ],
   "source": [
    "data = df.groupby(['U','phi'], as_index = False).mean()\n",
    "data"
   ]
  },
  {
   "cell_type": "code",
   "execution_count": 88,
   "metadata": {},
   "outputs": [],
   "source": [
    "k = 1 / (4 * consts.pi * consts.epsilon_0)"
   ]
  },
  {
   "cell_type": "code",
   "execution_count": 89,
   "metadata": {},
   "outputs": [
    {
     "data": {
      "text/html": [
       "<div>\n",
       "<style scoped>\n",
       "    .dataframe tbody tr th:only-of-type {\n",
       "        vertical-align: middle;\n",
       "    }\n",
       "\n",
       "    .dataframe tbody tr th {\n",
       "        vertical-align: top;\n",
       "    }\n",
       "\n",
       "    .dataframe thead th {\n",
       "        text-align: right;\n",
       "    }\n",
       "</style>\n",
       "<table border=\"1\" class=\"dataframe\">\n",
       "  <thead>\n",
       "    <tr style=\"text-align: right;\">\n",
       "      <th></th>\n",
       "      <th>U</th>\n",
       "      <th>phi</th>\n",
       "      <th>R</th>\n",
       "      <th>Q</th>\n",
       "    </tr>\n",
       "  </thead>\n",
       "  <tbody>\n",
       "    <tr>\n",
       "      <td>0</td>\n",
       "      <td>60</td>\n",
       "      <td>2500.0</td>\n",
       "      <td>0.059667</td>\n",
       "      <td>1.659703e-08</td>\n",
       "    </tr>\n",
       "    <tr>\n",
       "      <td>1</td>\n",
       "      <td>60</td>\n",
       "      <td>5000.0</td>\n",
       "      <td>0.080167</td>\n",
       "      <td>4.459872e-08</td>\n",
       "    </tr>\n",
       "    <tr>\n",
       "      <td>2</td>\n",
       "      <td>60</td>\n",
       "      <td>7500.0</td>\n",
       "      <td>0.100000</td>\n",
       "      <td>8.344875e-08</td>\n",
       "    </tr>\n",
       "    <tr>\n",
       "      <td>3</td>\n",
       "      <td>60</td>\n",
       "      <td>10000.0</td>\n",
       "      <td>0.124667</td>\n",
       "      <td>1.387104e-07</td>\n",
       "    </tr>\n",
       "    <tr>\n",
       "      <td>4</td>\n",
       "      <td>60</td>\n",
       "      <td>12500.0</td>\n",
       "      <td>0.150333</td>\n",
       "      <td>2.090855e-07</td>\n",
       "    </tr>\n",
       "  </tbody>\n",
       "</table>\n",
       "</div>"
      ],
      "text/plain": [
       "    U      phi         R             Q\n",
       "0  60   2500.0  0.059667  1.659703e-08\n",
       "1  60   5000.0  0.080167  4.459872e-08\n",
       "2  60   7500.0  0.100000  8.344875e-08\n",
       "3  60  10000.0  0.124667  1.387104e-07\n",
       "4  60  12500.0  0.150333  2.090855e-07"
      ]
     },
     "execution_count": 89,
     "metadata": {},
     "output_type": "execute_result"
    }
   ],
   "source": [
    "data['Q'] = data.apply(lambda row: row['phi'] * row['R'] / k,axis = 1)\n",
    "data"
   ]
  },
  {
   "cell_type": "code",
   "execution_count": 90,
   "metadata": {},
   "outputs": [
    {
     "data": {
      "text/html": [
       "<div>\n",
       "<style scoped>\n",
       "    .dataframe tbody tr th:only-of-type {\n",
       "        vertical-align: middle;\n",
       "    }\n",
       "\n",
       "    .dataframe tbody tr th {\n",
       "        vertical-align: top;\n",
       "    }\n",
       "\n",
       "    .dataframe thead th {\n",
       "        text-align: right;\n",
       "    }\n",
       "</style>\n",
       "<table border=\"1\" class=\"dataframe\">\n",
       "  <thead>\n",
       "    <tr style=\"text-align: right;\">\n",
       "      <th></th>\n",
       "      <th>U</th>\n",
       "      <th>phi</th>\n",
       "      <th>R</th>\n",
       "      <th>Q</th>\n",
       "      <th>E</th>\n",
       "    </tr>\n",
       "  </thead>\n",
       "  <tbody>\n",
       "    <tr>\n",
       "      <td>0</td>\n",
       "      <td>60</td>\n",
       "      <td>2500.0</td>\n",
       "      <td>0.059667</td>\n",
       "      <td>1.659703e-08</td>\n",
       "      <td>41899.441341</td>\n",
       "    </tr>\n",
       "    <tr>\n",
       "      <td>1</td>\n",
       "      <td>60</td>\n",
       "      <td>5000.0</td>\n",
       "      <td>0.080167</td>\n",
       "      <td>4.459872e-08</td>\n",
       "      <td>62370.062370</td>\n",
       "    </tr>\n",
       "    <tr>\n",
       "      <td>2</td>\n",
       "      <td>60</td>\n",
       "      <td>7500.0</td>\n",
       "      <td>0.100000</td>\n",
       "      <td>8.344875e-08</td>\n",
       "      <td>75000.000000</td>\n",
       "    </tr>\n",
       "    <tr>\n",
       "      <td>3</td>\n",
       "      <td>60</td>\n",
       "      <td>10000.0</td>\n",
       "      <td>0.124667</td>\n",
       "      <td>1.387104e-07</td>\n",
       "      <td>80213.903743</td>\n",
       "    </tr>\n",
       "    <tr>\n",
       "      <td>4</td>\n",
       "      <td>60</td>\n",
       "      <td>12500.0</td>\n",
       "      <td>0.150333</td>\n",
       "      <td>2.090855e-07</td>\n",
       "      <td>83148.558758</td>\n",
       "    </tr>\n",
       "  </tbody>\n",
       "</table>\n",
       "</div>"
      ],
      "text/plain": [
       "    U      phi         R             Q             E\n",
       "0  60   2500.0  0.059667  1.659703e-08  41899.441341\n",
       "1  60   5000.0  0.080167  4.459872e-08  62370.062370\n",
       "2  60   7500.0  0.100000  8.344875e-08  75000.000000\n",
       "3  60  10000.0  0.124667  1.387104e-07  80213.903743\n",
       "4  60  12500.0  0.150333  2.090855e-07  83148.558758"
      ]
     },
     "execution_count": 90,
     "metadata": {},
     "output_type": "execute_result"
    }
   ],
   "source": [
    "data['E'] = data.apply(lambda row: k * row['Q'] / row['R']**2,axis = 1)\n",
    "data"
   ]
  },
  {
   "cell_type": "code",
   "execution_count": 98,
   "metadata": {},
   "outputs": [
    {
     "name": "stdout",
     "output_type": "stream",
     "text": [
      "[148.90106318   0.        ]\n",
      "149.16666666666666\n"
     ]
    }
   ],
   "source": [
    "expData = df[df['phi'] == df['phi'].unique()[0]]\n",
    "R2Inv = expData.apply(lambda row: 1 / row['R']**2, axis = 1)\n",
    "E = expData.apply(lambda row: row['phi'] / row['R'], axis = 1)\n",
    "basis = np.vstack((R2Inv,np.zeros(len(R2Inv)))).T\n",
    "koef = scipy.linalg.lstsq(basis, E)[0]\n",
    "print(koef)\n",
    "print(k * data['Q'][0])"
   ]
  },
  {
   "cell_type": "code",
   "execution_count": 96,
   "metadata": {},
   "outputs": [
    {
     "data": {
      "image/png": "[encoded data removed]",
      "text/plain": [
       "<Figure size 936x504 with 1 Axes>"
      ]
     },
     "metadata": {
      "needs_background": "light"
     },
     "output_type": "display_data"
    }
   ],
   "source": [
    "plt.figure(figsize = (13,7))\n",
    "plt.title(\"Залежність моменту інерції системи($J$) від квадрату відстані між вантажами та віссю обертання($R^2$)\")\n",
    "plt.xlabel(\"$1/R^2(1/м^2)}$\")\n",
    "plt.rc('font', size=15)\n",
    "plt.ylabel(\"$E(В/м)$\")\n",
    "plt.grid();\n",
    "\n",
    "xnew = np.arange(np.min(R2Inv) - 10, np.max(R2Inv) + 10,0.001)\n",
    "ynew = koef[0] * xnew + koef[1]\n",
    "\n",
    "plt.plot(R2Inv, E, 'o', label = r\"Значення моменту сили у виміряних значеннях $R$\")\n",
    "plt.plot(xnew, ynew, '-', label = \"Апроксімована залежність моменту сили\")\n",
    "plt.legend(loc=\"best\");"
   ]
  },
  {
   "cell_type": "code",
   "execution_count": 94,
   "metadata": {},
   "outputs": [
    {
     "name": "stdout",
     "output_type": "stream",
     "text": [
      "0    41361.406440\n",
      "1    44263.098449\n",
      "2    40016.410423\n",
      "dtype: float64\n"
     ]
    },
    {
     "data": {
      "text/plain": [
       "0    0.059780\n",
       "1    0.058775\n",
       "2    0.060276\n",
       "dtype: float64"
      ]
     },
     "execution_count": 94,
     "metadata": {},
     "output_type": "execute_result"
    }
   ],
   "source": [
    "EExp = expData.apply(lambda row: koef[0] / row['R']**2 ,axis = 1)\n",
    "print(EExp)\n",
    "np.sqrt(np.divide(koef[0],E))"
   ]
  }
 ],
 "metadata": {
  "kernelspec": {
   "display_name": "PhysicsLabs",
   "language": "python",
   "name": "physicslabs"
  },
  "language_info": {
   "codemirror_mode": {
    "name": "ipython",
    "version": 3
   },
   "file_extension": ".py",
   "mimetype": "text/x-python",
   "name": "python",
   "nbconvert_exporter": "python",
   "pygments_lexer": "ipython3",
   "version": "3.6.8"
  }
 },
 "nbformat": 4,
 "nbformat_minor": 4
}
