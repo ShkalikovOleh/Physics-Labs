{
 "cells": [
  {
   "cell_type": "code",
   "execution_count": 2,
   "metadata": {},
   "outputs": [],
   "source": [
    "%matplotlib inline\n",
    "import matplotlib.pyplot as plt\n",
    "import pandas as pd\n",
    "import numpy as np\n",
    "import scipy.linalg\n",
    "import scipy.constants as consts"
   ]
  },
  {
   "cell_type": "code",
   "execution_count": 5,
   "metadata": {},
   "outputs": [
    {
     "data": {
      "text/html": [
       "<div>\n",
       "<style scoped>\n",
       "    .dataframe tbody tr th:only-of-type {\n",
       "        vertical-align: middle;\n",
       "    }\n",
       "\n",
       "    .dataframe tbody tr th {\n",
       "        vertical-align: top;\n",
       "    }\n",
       "\n",
       "    .dataframe thead th {\n",
       "        text-align: right;\n",
       "    }\n",
       "</style>\n",
       "<table border=\"1\" class=\"dataframe\">\n",
       "  <thead>\n",
       "    <tr style=\"text-align: right;\">\n",
       "      <th></th>\n",
       "      <th>phi</th>\n",
       "      <th>R</th>\n",
       "      <th>U</th>\n",
       "      <th>r</th>\n",
       "    </tr>\n",
       "  </thead>\n",
       "  <tbody>\n",
       "    <tr>\n",
       "      <td>0</td>\n",
       "      <td>2500.0</td>\n",
       "      <td>0.0600</td>\n",
       "      <td>60</td>\n",
       "      <td>0.02</td>\n",
       "    </tr>\n",
       "    <tr>\n",
       "      <td>1</td>\n",
       "      <td>2500.0</td>\n",
       "      <td>0.0580</td>\n",
       "      <td>60</td>\n",
       "      <td>0.02</td>\n",
       "    </tr>\n",
       "    <tr>\n",
       "      <td>2</td>\n",
       "      <td>2500.0</td>\n",
       "      <td>0.0610</td>\n",
       "      <td>60</td>\n",
       "      <td>0.02</td>\n",
       "    </tr>\n",
       "    <tr>\n",
       "      <td>3</td>\n",
       "      <td>5000.0</td>\n",
       "      <td>0.0800</td>\n",
       "      <td>60</td>\n",
       "      <td>0.02</td>\n",
       "    </tr>\n",
       "    <tr>\n",
       "      <td>4</td>\n",
       "      <td>5000.0</td>\n",
       "      <td>0.0810</td>\n",
       "      <td>60</td>\n",
       "      <td>0.02</td>\n",
       "    </tr>\n",
       "    <tr>\n",
       "      <td>5</td>\n",
       "      <td>5000.0</td>\n",
       "      <td>0.0795</td>\n",
       "      <td>60</td>\n",
       "      <td>0.02</td>\n",
       "    </tr>\n",
       "    <tr>\n",
       "      <td>6</td>\n",
       "      <td>7500.0</td>\n",
       "      <td>0.0990</td>\n",
       "      <td>60</td>\n",
       "      <td>0.02</td>\n",
       "    </tr>\n",
       "    <tr>\n",
       "      <td>7</td>\n",
       "      <td>7500.0</td>\n",
       "      <td>0.1000</td>\n",
       "      <td>60</td>\n",
       "      <td>0.02</td>\n",
       "    </tr>\n",
       "    <tr>\n",
       "      <td>8</td>\n",
       "      <td>7500.0</td>\n",
       "      <td>0.1010</td>\n",
       "      <td>60</td>\n",
       "      <td>0.02</td>\n",
       "    </tr>\n",
       "    <tr>\n",
       "      <td>9</td>\n",
       "      <td>10000.0</td>\n",
       "      <td>0.1240</td>\n",
       "      <td>60</td>\n",
       "      <td>0.02</td>\n",
       "    </tr>\n",
       "    <tr>\n",
       "      <td>10</td>\n",
       "      <td>10000.0</td>\n",
       "      <td>0.1250</td>\n",
       "      <td>60</td>\n",
       "      <td>0.02</td>\n",
       "    </tr>\n",
       "    <tr>\n",
       "      <td>11</td>\n",
       "      <td>10000.0</td>\n",
       "      <td>0.1250</td>\n",
       "      <td>60</td>\n",
       "      <td>0.02</td>\n",
       "    </tr>\n",
       "    <tr>\n",
       "      <td>12</td>\n",
       "      <td>12500.0</td>\n",
       "      <td>0.1510</td>\n",
       "      <td>60</td>\n",
       "      <td>0.02</td>\n",
       "    </tr>\n",
       "    <tr>\n",
       "      <td>13</td>\n",
       "      <td>12500.0</td>\n",
       "      <td>0.1500</td>\n",
       "      <td>60</td>\n",
       "      <td>0.02</td>\n",
       "    </tr>\n",
       "    <tr>\n",
       "      <td>14</td>\n",
       "      <td>12500.0</td>\n",
       "      <td>0.1500</td>\n",
       "      <td>60</td>\n",
       "      <td>0.02</td>\n",
       "    </tr>\n",
       "  </tbody>\n",
       "</table>\n",
       "</div>"
      ],
      "text/plain": [
       "        phi       R   U     r\n",
       "0    2500.0  0.0600  60  0.02\n",
       "1    2500.0  0.0580  60  0.02\n",
       "2    2500.0  0.0610  60  0.02\n",
       "3    5000.0  0.0800  60  0.02\n",
       "4    5000.0  0.0810  60  0.02\n",
       "5    5000.0  0.0795  60  0.02\n",
       "6    7500.0  0.0990  60  0.02\n",
       "7    7500.0  0.1000  60  0.02\n",
       "8    7500.0  0.1010  60  0.02\n",
       "9   10000.0  0.1240  60  0.02\n",
       "10  10000.0  0.1250  60  0.02\n",
       "11  10000.0  0.1250  60  0.02\n",
       "12  12500.0  0.1510  60  0.02\n",
       "13  12500.0  0.1500  60  0.02\n",
       "14  12500.0  0.1500  60  0.02"
      ]
     },
     "execution_count": 5,
     "metadata": {},
     "output_type": "execute_result"
    }
   ],
   "source": [
    "df = pd.read_csv(\"Lab2.csv\")\n",
    "df['R'] = df.apply(lambda row: row['R'] / 100 ,axis = 1)\n",
    "df['phi'] = df.apply(lambda row: row['phi'] * 1000,axis = 1)\n",
    "df['r'] = df.apply(lambda row: row['r'] / 100,axis = 1)\n",
    "df"
   ]
  },
  {
   "cell_type": "code",
   "execution_count": 9,
   "metadata": {},
   "outputs": [
    {
     "data": {
      "text/html": [
       "<div>\n",
       "<style scoped>\n",
       "    .dataframe tbody tr th:only-of-type {\n",
       "        vertical-align: middle;\n",
       "    }\n",
       "\n",
       "    .dataframe tbody tr th {\n",
       "        vertical-align: top;\n",
       "    }\n",
       "\n",
       "    .dataframe thead th {\n",
       "        text-align: right;\n",
       "    }\n",
       "</style>\n",
       "<table border=\"1\" class=\"dataframe\">\n",
       "  <thead>\n",
       "    <tr style=\"text-align: right;\">\n",
       "      <th></th>\n",
       "      <th>U</th>\n",
       "      <th>r</th>\n",
       "      <th>phi</th>\n",
       "      <th>R</th>\n",
       "    </tr>\n",
       "  </thead>\n",
       "  <tbody>\n",
       "    <tr>\n",
       "      <td>0</td>\n",
       "      <td>60</td>\n",
       "      <td>0.02</td>\n",
       "      <td>2500.0</td>\n",
       "      <td>0.059667</td>\n",
       "    </tr>\n",
       "    <tr>\n",
       "      <td>1</td>\n",
       "      <td>60</td>\n",
       "      <td>0.02</td>\n",
       "      <td>5000.0</td>\n",
       "      <td>0.080167</td>\n",
       "    </tr>\n",
       "    <tr>\n",
       "      <td>2</td>\n",
       "      <td>60</td>\n",
       "      <td>0.02</td>\n",
       "      <td>7500.0</td>\n",
       "      <td>0.100000</td>\n",
       "    </tr>\n",
       "    <tr>\n",
       "      <td>3</td>\n",
       "      <td>60</td>\n",
       "      <td>0.02</td>\n",
       "      <td>10000.0</td>\n",
       "      <td>0.124667</td>\n",
       "    </tr>\n",
       "    <tr>\n",
       "      <td>4</td>\n",
       "      <td>60</td>\n",
       "      <td>0.02</td>\n",
       "      <td>12500.0</td>\n",
       "      <td>0.150333</td>\n",
       "    </tr>\n",
       "  </tbody>\n",
       "</table>\n",
       "</div>"
      ],
      "text/plain": [
       "    U     r      phi         R\n",
       "0  60  0.02   2500.0  0.059667\n",
       "1  60  0.02   5000.0  0.080167\n",
       "2  60  0.02   7500.0  0.100000\n",
       "3  60  0.02  10000.0  0.124667\n",
       "4  60  0.02  12500.0  0.150333"
      ]
     },
     "execution_count": 9,
     "metadata": {},
     "output_type": "execute_result"
    }
   ],
   "source": [
    "data = df.groupby(['U','r','phi'], as_index = False).mean()\n",
    "data"
   ]
  },
  {
   "cell_type": "code",
   "execution_count": 10,
   "metadata": {},
   "outputs": [
    {
     "name": "stdout",
     "output_type": "stream",
     "text": [
      "8987551787.368177\n"
     ]
    }
   ],
   "source": [
    "k = 1 / (4 * consts.pi * consts.epsilon_0)\n",
    "print(k)"
   ]
  },
  {
   "cell_type": "code",
   "execution_count": 11,
   "metadata": {},
   "outputs": [
    {
     "data": {
      "text/html": [
       "<div>\n",
       "<style scoped>\n",
       "    .dataframe tbody tr th:only-of-type {\n",
       "        vertical-align: middle;\n",
       "    }\n",
       "\n",
       "    .dataframe tbody tr th {\n",
       "        vertical-align: top;\n",
       "    }\n",
       "\n",
       "    .dataframe thead th {\n",
       "        text-align: right;\n",
       "    }\n",
       "</style>\n",
       "<table border=\"1\" class=\"dataframe\">\n",
       "  <thead>\n",
       "    <tr style=\"text-align: right;\">\n",
       "      <th></th>\n",
       "      <th>U</th>\n",
       "      <th>r</th>\n",
       "      <th>phi</th>\n",
       "      <th>R</th>\n",
       "      <th>Q</th>\n",
       "    </tr>\n",
       "  </thead>\n",
       "  <tbody>\n",
       "    <tr>\n",
       "      <td>0</td>\n",
       "      <td>60</td>\n",
       "      <td>0.02</td>\n",
       "      <td>2500.0</td>\n",
       "      <td>0.059667</td>\n",
       "      <td>5.563250e-09</td>\n",
       "    </tr>\n",
       "    <tr>\n",
       "      <td>1</td>\n",
       "      <td>60</td>\n",
       "      <td>0.02</td>\n",
       "      <td>5000.0</td>\n",
       "      <td>0.080167</td>\n",
       "      <td>1.112650e-08</td>\n",
       "    </tr>\n",
       "    <tr>\n",
       "      <td>2</td>\n",
       "      <td>60</td>\n",
       "      <td>0.02</td>\n",
       "      <td>7500.0</td>\n",
       "      <td>0.100000</td>\n",
       "      <td>1.668975e-08</td>\n",
       "    </tr>\n",
       "    <tr>\n",
       "      <td>3</td>\n",
       "      <td>60</td>\n",
       "      <td>0.02</td>\n",
       "      <td>10000.0</td>\n",
       "      <td>0.124667</td>\n",
       "      <td>2.225300e-08</td>\n",
       "    </tr>\n",
       "    <tr>\n",
       "      <td>4</td>\n",
       "      <td>60</td>\n",
       "      <td>0.02</td>\n",
       "      <td>12500.0</td>\n",
       "      <td>0.150333</td>\n",
       "      <td>2.781625e-08</td>\n",
       "    </tr>\n",
       "  </tbody>\n",
       "</table>\n",
       "</div>"
      ],
      "text/plain": [
       "    U     r      phi         R             Q\n",
       "0  60  0.02   2500.0  0.059667  5.563250e-09\n",
       "1  60  0.02   5000.0  0.080167  1.112650e-08\n",
       "2  60  0.02   7500.0  0.100000  1.668975e-08\n",
       "3  60  0.02  10000.0  0.124667  2.225300e-08\n",
       "4  60  0.02  12500.0  0.150333  2.781625e-08"
      ]
     },
     "execution_count": 11,
     "metadata": {},
     "output_type": "execute_result"
    }
   ],
   "source": [
    "data['Q'] = data.apply(lambda row: row['phi'] * row['r'] / k,axis = 1)\n",
    "data"
   ]
  },
  {
   "cell_type": "code",
   "execution_count": 12,
   "metadata": {},
   "outputs": [
    {
     "data": {
      "text/html": [
       "<div>\n",
       "<style scoped>\n",
       "    .dataframe tbody tr th:only-of-type {\n",
       "        vertical-align: middle;\n",
       "    }\n",
       "\n",
       "    .dataframe tbody tr th {\n",
       "        vertical-align: top;\n",
       "    }\n",
       "\n",
       "    .dataframe thead th {\n",
       "        text-align: right;\n",
       "    }\n",
       "</style>\n",
       "<table border=\"1\" class=\"dataframe\">\n",
       "  <thead>\n",
       "    <tr style=\"text-align: right;\">\n",
       "      <th></th>\n",
       "      <th>U</th>\n",
       "      <th>r</th>\n",
       "      <th>phi</th>\n",
       "      <th>R</th>\n",
       "      <th>Q</th>\n",
       "      <th>E</th>\n",
       "    </tr>\n",
       "  </thead>\n",
       "  <tbody>\n",
       "    <tr>\n",
       "      <td>0</td>\n",
       "      <td>60</td>\n",
       "      <td>0.02</td>\n",
       "      <td>2500.0</td>\n",
       "      <td>0.059667</td>\n",
       "      <td>5.563250e-09</td>\n",
       "      <td>14044.505477</td>\n",
       "    </tr>\n",
       "    <tr>\n",
       "      <td>1</td>\n",
       "      <td>60</td>\n",
       "      <td>0.02</td>\n",
       "      <td>5000.0</td>\n",
       "      <td>0.080167</td>\n",
       "      <td>1.112650e-08</td>\n",
       "      <td>15560.098720</td>\n",
       "    </tr>\n",
       "    <tr>\n",
       "      <td>2</td>\n",
       "      <td>60</td>\n",
       "      <td>0.02</td>\n",
       "      <td>7500.0</td>\n",
       "      <td>0.100000</td>\n",
       "      <td>1.668975e-08</td>\n",
       "      <td>15000.000000</td>\n",
       "    </tr>\n",
       "    <tr>\n",
       "      <td>3</td>\n",
       "      <td>60</td>\n",
       "      <td>0.02</td>\n",
       "      <td>10000.0</td>\n",
       "      <td>0.124667</td>\n",
       "      <td>2.225300e-08</td>\n",
       "      <td>12868.540707</td>\n",
       "    </tr>\n",
       "    <tr>\n",
       "      <td>4</td>\n",
       "      <td>60</td>\n",
       "      <td>0.02</td>\n",
       "      <td>12500.0</td>\n",
       "      <td>0.150333</td>\n",
       "      <td>2.781625e-08</td>\n",
       "      <td>11061.892518</td>\n",
       "    </tr>\n",
       "  </tbody>\n",
       "</table>\n",
       "</div>"
      ],
      "text/plain": [
       "    U     r      phi         R             Q             E\n",
       "0  60  0.02   2500.0  0.059667  5.563250e-09  14044.505477\n",
       "1  60  0.02   5000.0  0.080167  1.112650e-08  15560.098720\n",
       "2  60  0.02   7500.0  0.100000  1.668975e-08  15000.000000\n",
       "3  60  0.02  10000.0  0.124667  2.225300e-08  12868.540707\n",
       "4  60  0.02  12500.0  0.150333  2.781625e-08  11061.892518"
      ]
     },
     "execution_count": 12,
     "metadata": {},
     "output_type": "execute_result"
    }
   ],
   "source": [
    "data['E'] = data.apply(lambda row: k * row['Q'] / row['R']**2,axis = 1)\n",
    "data"
   ]
  },
  {
   "cell_type": "code",
   "execution_count": 106,
   "metadata": {},
   "outputs": [
    {
     "name": "stdout",
     "output_type": "stream",
     "text": [
      "0    5.625583e-09\n",
      "1    5.256795e-09\n",
      "2    5.814665e-09\n",
      "Name: R, dtype: float64\n"
     ]
    }
   ],
   "source": [
    "Q = data['E'][0] * df['R'][0:3]**2 / k\n",
    "print(Q)"
   ]
  },
  {
   "cell_type": "code",
   "execution_count": 136,
   "metadata": {},
   "outputs": [
    {
     "data": {
      "image/png": "[encoded data removed]",
      "text/plain": [
       "<Figure size 936x504 with 1 Axes>"
      ]
     },
     "metadata": {
      "needs_background": "light"
     },
     "output_type": "display_data"
    }
   ],
   "source": [
    "plt.figure(figsize = (13,7))\n",
    "plt.ylabel(\"$Q(Кл)$\")\n",
    "plt.rc('font', size=15)\n",
    "plt.xlabel(\"$R^2(м^2)$\")\n",
    "plt.grid();\n",
    "\n",
    "\n",
    "x = np.arange(0, np.max(df['R'][0:3]),0.001)\n",
    "y = data['E'][0] * x**2 / k\n",
    "\n",
    "plt.xlim(0, np.max(x**2))\n",
    "plt.ylim(0, np.max(y + 10**-9))\n",
    "\n",
    "plt.plot(x ** 2, y, '-', label = r\"Залежність заряду $Q(R^2) для \\;\\phi = 2.5(КВ)$\")\n",
    "plt.legend(loc=\"best\");"
   ]
  },
  {
   "cell_type": "markdown",
   "metadata": {},
   "source": [
    "$$\\Delta R = \\sqrt{ R_{шкали}^2 + \\frac{\\sum_{(R_{i} - \\overline R)^2}^{n} }{n} }$$"
   ]
  },
  {
   "cell_type": "code",
   "execution_count": 108,
   "metadata": {},
   "outputs": [
    {
     "name": "stdout",
     "output_type": "stream",
     "text": [
      "[1.5555555555555585e-06, 3.888888888888896e-07, 6.666666666666586e-07, 2.2222222222222262e-07, 2.2222222222222262e-07]\n",
      "[0.00159861 0.00117851 0.00129099 0.00110554 0.00110554]\n",
      "0    2.679235\n",
      "1    1.470076\n",
      "2    1.290994\n",
      "3    0.886798\n",
      "4    0.735394\n",
      "Name: R, dtype: float64\n"
     ]
    }
   ],
   "source": [
    "def std2(array):\n",
    "    mean = np.ones(len(array)) * array.mean()\n",
    "    return np.sum(np.power(array - mean, 2)) / len(array)\n",
    "def partRError(array, partLenght):\n",
    "    errors = []\n",
    "    for i in range((int)(len(array) / partLenght)):\n",
    "        errors.append(std2(array[i*partLenght:(i+1)*partLenght]))\n",
    "    return errors\n",
    "print(partRError(df['R'], 3))\n",
    "deltaR = np.sqrt(0.001**2 * np.ones(len(data['R'])) + partRError(df['R'],3)) # + np.std(data['R'], ddof = 0) / data['R'].count())\n",
    "eR = deltaR / data['R'] * 100\n",
    "print(deltaR)\n",
    "print(eR)"
   ]
  },
  {
   "cell_type": "markdown",
   "metadata": {},
   "source": [
    "$$\\Delta Q = \\frac{\\phi\\Delta R}{k}$$"
   ]
  },
  {
   "cell_type": "code",
   "execution_count": 109,
   "metadata": {},
   "outputs": [
    {
     "name": "stdout",
     "output_type": "stream",
     "text": [
      "0    4.446735e-10\n",
      "1    6.556353e-10\n",
      "2    1.077319e-09\n",
      "3    1.230081e-09\n",
      "4    1.537601e-09\n",
      "Name: phi, dtype: float64\n",
      "0    7.993053\n",
      "1    5.892557\n",
      "2    6.454972\n",
      "3    5.527708\n",
      "4    5.527708\n",
      "dtype: float64\n"
     ]
    }
   ],
   "source": [
    "deltaQ = data['phi'] * deltaR / k \n",
    "eR = np.divide(deltaQ,data['Q']) * 100\n",
    "print(deltaQ)\n",
    "print(eR)"
   ]
  },
  {
   "cell_type": "markdown",
   "metadata": {},
   "source": [
    "$$\\Delta E = \\sqrt{(\\frac{-2\\Delta RkQ}{R^3})^2 + (\\frac{k\\Delta Q}{R^2})^2}$$"
   ]
  },
  {
   "cell_type": "code",
   "execution_count": 110,
   "metadata": {},
   "outputs": [
    {
     "name": "stdout",
     "output_type": "stream",
     "text": [
      "0    1351.502551\n",
      "1    1024.685625\n",
      "2    1042.832681\n",
      "3     747.053966\n",
      "4     632.743831\n",
      "dtype: float64\n",
      "0    8.685694\n",
      "1    6.585341\n",
      "2    6.701967\n",
      "3    4.801088\n",
      "4    4.066451\n",
      "dtype: float64\n"
     ]
    }
   ],
   "source": [
    "deltaE = np.sqrt((2 * k * data['Q'] / data['R']**3 * deltaR)**2 + (k*deltaQ/data['R']**2)**2)\n",
    "eE = deltaE / data['E'][1] * 100\n",
    "print(deltaE)\n",
    "print(eE)"
   ]
  }
 ],
 "metadata": {
  "kernelspec": {
   "display_name": "PhysicsLabs",
   "language": "python",
   "name": "physicslabs"
  },
  "language_info": {
   "codemirror_mode": {
    "name": "ipython",
    "version": 3
   },
   "file_extension": ".py",
   "mimetype": "text/x-python",
   "name": "python",
   "nbconvert_exporter": "python",
   "pygments_lexer": "ipython3",
   "version": "3.6.8"
  }
 },
 "nbformat": 4,
 "nbformat_minor": 4
}
