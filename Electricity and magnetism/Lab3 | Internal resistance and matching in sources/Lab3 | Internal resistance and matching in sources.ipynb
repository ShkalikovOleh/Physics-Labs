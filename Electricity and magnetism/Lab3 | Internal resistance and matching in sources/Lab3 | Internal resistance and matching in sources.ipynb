{
 "cells": [
  {
   "cell_type": "code",
   "execution_count": 41,
   "metadata": {},
   "outputs": [],
   "source": [
    "%matplotlib inline\n",
    "import matplotlib.pyplot as plt\n",
    "import pandas as pd\n",
    "import numpy as np\n",
    "import scipy.linalg\n",
    "pd.options.mode.chained_assignment = None\n",
    "pd.options.display.float_format = '{:,.2f}'.format"
   ]
  },
  {
   "cell_type": "code",
   "execution_count": 42,
   "metadata": {},
   "outputs": [
    {
     "data": {
      "text/html": [
       "<div>\n",
       "<style scoped>\n",
       "    .dataframe tbody tr th:only-of-type {\n",
       "        vertical-align: middle;\n",
       "    }\n",
       "\n",
       "    .dataframe tbody tr th {\n",
       "        vertical-align: top;\n",
       "    }\n",
       "\n",
       "    .dataframe thead th {\n",
       "        text-align: right;\n",
       "    }\n",
       "</style>\n",
       "<table border=\"1\" class=\"dataframe\">\n",
       "  <thead>\n",
       "    <tr style=\"text-align: right;\">\n",
       "      <th></th>\n",
       "      <th>U0</th>\n",
       "      <th>I</th>\n",
       "      <th>U</th>\n",
       "    </tr>\n",
       "  </thead>\n",
       "  <tbody>\n",
       "    <tr>\n",
       "      <td>0</td>\n",
       "      <td>12.12</td>\n",
       "      <td>0.25</td>\n",
       "      <td>12.12</td>\n",
       "    </tr>\n",
       "    <tr>\n",
       "      <td>1</td>\n",
       "      <td>12.12</td>\n",
       "      <td>0.50</td>\n",
       "      <td>12.11</td>\n",
       "    </tr>\n",
       "    <tr>\n",
       "      <td>2</td>\n",
       "      <td>12.12</td>\n",
       "      <td>0.75</td>\n",
       "      <td>12.09</td>\n",
       "    </tr>\n",
       "    <tr>\n",
       "      <td>3</td>\n",
       "      <td>12.12</td>\n",
       "      <td>1.00</td>\n",
       "      <td>12.08</td>\n",
       "    </tr>\n",
       "    <tr>\n",
       "      <td>4</td>\n",
       "      <td>12.12</td>\n",
       "      <td>1.25</td>\n",
       "      <td>12.07</td>\n",
       "    </tr>\n",
       "    <tr>\n",
       "      <td>5</td>\n",
       "      <td>12.12</td>\n",
       "      <td>1.50</td>\n",
       "      <td>12.05</td>\n",
       "    </tr>\n",
       "    <tr>\n",
       "      <td>6</td>\n",
       "      <td>12.12</td>\n",
       "      <td>1.75</td>\n",
       "      <td>12.04</td>\n",
       "    </tr>\n",
       "    <tr>\n",
       "      <td>7</td>\n",
       "      <td>12.12</td>\n",
       "      <td>2.00</td>\n",
       "      <td>12.03</td>\n",
       "    </tr>\n",
       "    <tr>\n",
       "      <td>8</td>\n",
       "      <td>4.50</td>\n",
       "      <td>0.10</td>\n",
       "      <td>4.30</td>\n",
       "    </tr>\n",
       "    <tr>\n",
       "      <td>9</td>\n",
       "      <td>4.50</td>\n",
       "      <td>0.20</td>\n",
       "      <td>3.90</td>\n",
       "    </tr>\n",
       "    <tr>\n",
       "      <td>10</td>\n",
       "      <td>4.50</td>\n",
       "      <td>0.30</td>\n",
       "      <td>3.70</td>\n",
       "    </tr>\n",
       "    <tr>\n",
       "      <td>11</td>\n",
       "      <td>4.50</td>\n",
       "      <td>0.40</td>\n",
       "      <td>3.30</td>\n",
       "    </tr>\n",
       "    <tr>\n",
       "      <td>12</td>\n",
       "      <td>4.50</td>\n",
       "      <td>0.50</td>\n",
       "      <td>2.90</td>\n",
       "    </tr>\n",
       "    <tr>\n",
       "      <td>13</td>\n",
       "      <td>4.50</td>\n",
       "      <td>0.60</td>\n",
       "      <td>2.70</td>\n",
       "    </tr>\n",
       "    <tr>\n",
       "      <td>14</td>\n",
       "      <td>4.50</td>\n",
       "      <td>0.75</td>\n",
       "      <td>2.25</td>\n",
       "    </tr>\n",
       "  </tbody>\n",
       "</table>\n",
       "</div>"
      ],
      "text/plain": [
       "      U0    I     U\n",
       "0  12.12 0.25 12.12\n",
       "1  12.12 0.50 12.11\n",
       "2  12.12 0.75 12.09\n",
       "3  12.12 1.00 12.08\n",
       "4  12.12 1.25 12.07\n",
       "5  12.12 1.50 12.05\n",
       "6  12.12 1.75 12.04\n",
       "7  12.12 2.00 12.03\n",
       "8   4.50 0.10  4.30\n",
       "9   4.50 0.20  3.90\n",
       "10  4.50 0.30  3.70\n",
       "11  4.50 0.40  3.30\n",
       "12  4.50 0.50  2.90\n",
       "13  4.50 0.60  2.70\n",
       "14  4.50 0.75  2.25"
      ]
     },
     "execution_count": 42,
     "metadata": {},
     "output_type": "execute_result"
    }
   ],
   "source": [
    "df = pd.read_csv(\"Data3.csv\")\n",
    "df"
   ]
  },
  {
   "cell_type": "code",
   "execution_count": 43,
   "metadata": {},
   "outputs": [],
   "source": [
    "expData = df[df.U0 == 12.12]\n",
    "batteryData = df[df.U0 == 4.5]"
   ]
  },
  {
   "cell_type": "code",
   "execution_count": 44,
   "metadata": {},
   "outputs": [
    {
     "data": {
      "text/html": [
       "<div>\n",
       "<style scoped>\n",
       "    .dataframe tbody tr th:only-of-type {\n",
       "        vertical-align: middle;\n",
       "    }\n",
       "\n",
       "    .dataframe tbody tr th {\n",
       "        vertical-align: top;\n",
       "    }\n",
       "\n",
       "    .dataframe thead th {\n",
       "        text-align: right;\n",
       "    }\n",
       "</style>\n",
       "<table border=\"1\" class=\"dataframe\">\n",
       "  <thead>\n",
       "    <tr style=\"text-align: right;\">\n",
       "      <th></th>\n",
       "      <th>U0</th>\n",
       "      <th>I</th>\n",
       "      <th>U</th>\n",
       "    </tr>\n",
       "  </thead>\n",
       "  <tbody>\n",
       "    <tr>\n",
       "      <td>0</td>\n",
       "      <td>12.12</td>\n",
       "      <td>0.25</td>\n",
       "      <td>12.12</td>\n",
       "    </tr>\n",
       "    <tr>\n",
       "      <td>1</td>\n",
       "      <td>12.12</td>\n",
       "      <td>0.50</td>\n",
       "      <td>12.11</td>\n",
       "    </tr>\n",
       "    <tr>\n",
       "      <td>2</td>\n",
       "      <td>12.12</td>\n",
       "      <td>0.75</td>\n",
       "      <td>12.09</td>\n",
       "    </tr>\n",
       "    <tr>\n",
       "      <td>3</td>\n",
       "      <td>12.12</td>\n",
       "      <td>1.00</td>\n",
       "      <td>12.08</td>\n",
       "    </tr>\n",
       "    <tr>\n",
       "      <td>4</td>\n",
       "      <td>12.12</td>\n",
       "      <td>1.25</td>\n",
       "      <td>12.07</td>\n",
       "    </tr>\n",
       "    <tr>\n",
       "      <td>5</td>\n",
       "      <td>12.12</td>\n",
       "      <td>1.50</td>\n",
       "      <td>12.05</td>\n",
       "    </tr>\n",
       "    <tr>\n",
       "      <td>6</td>\n",
       "      <td>12.12</td>\n",
       "      <td>1.75</td>\n",
       "      <td>12.04</td>\n",
       "    </tr>\n",
       "    <tr>\n",
       "      <td>7</td>\n",
       "      <td>12.12</td>\n",
       "      <td>2.00</td>\n",
       "      <td>12.03</td>\n",
       "    </tr>\n",
       "  </tbody>\n",
       "</table>\n",
       "</div>"
      ],
      "text/plain": [
       "     U0    I     U\n",
       "0 12.12 0.25 12.12\n",
       "1 12.12 0.50 12.11\n",
       "2 12.12 0.75 12.09\n",
       "3 12.12 1.00 12.08\n",
       "4 12.12 1.25 12.07\n",
       "5 12.12 1.50 12.05\n",
       "6 12.12 1.75 12.04\n",
       "7 12.12 2.00 12.03"
      ]
     },
     "execution_count": 44,
     "metadata": {},
     "output_type": "execute_result"
    }
   ],
   "source": [
    "expData"
   ]
  },
  {
   "cell_type": "code",
   "execution_count": 45,
   "metadata": {},
   "outputs": [
    {
     "name": "stdout",
     "output_type": "stream",
     "text": [
      "[-0.05190476 12.13264286]\n"
     ]
    }
   ],
   "source": [
    "basis = np.vstack((expData.I,np.ones(len(expData)))).T\n",
    "koef = scipy.linalg.lstsq(basis, expData.U)[0]\n",
    "print(koef)"
   ]
  },
  {
   "cell_type": "code",
   "execution_count": 46,
   "metadata": {},
   "outputs": [
    {
     "name": "stdout",
     "output_type": "stream",
     "text": [
      "233.74816513762258\n"
     ]
    }
   ],
   "source": [
    "x0 = -koef[1]/koef[0]\n",
    "print(x0)"
   ]
  },
  {
   "cell_type": "code",
   "execution_count": 47,
   "metadata": {},
   "outputs": [
    {
     "data": {
      "image/png": "[encoded data removed]",
      "text/plain": [
       "<Figure size 936x504 with 1 Axes>"
      ]
     },
     "metadata": {
      "needs_background": "light"
     },
     "output_type": "display_data"
    }
   ],
   "source": [
    "plt.figure(figsize = (13,7))\n",
    "plt.ylabel(\"$U(В)$\")\n",
    "plt.rc('font', size=15)\n",
    "plt.xlabel(\"$I(A)$\")\n",
    "plt.grid();\n",
    "\n",
    "\n",
    "x = np.arange(0, x0 + 1,0.01)\n",
    "y = koef[0] * x + koef[1]\n",
    "\n",
    "plt.xlim(0,x0 + 50)\n",
    "plt.ylim(0, 14)\n",
    "\n",
    "plt.plot(x, y, '-', label = r\"Апроксимована залежність напруги $U$ від сили струму $А$\")\n",
    "plt.legend(loc=\"best\");"
   ]
  },
  {
   "cell_type": "code",
   "execution_count": 48,
   "metadata": {},
   "outputs": [
    {
     "data": {
      "image/png": "[encoded data removed]",
      "text/plain": [
       "<Figure size 936x504 with 1 Axes>"
      ]
     },
     "metadata": {
      "needs_background": "light"
     },
     "output_type": "display_data"
    }
   ],
   "source": [
    "plt.figure(figsize = (13,7))\n",
    "plt.ylabel(\"$U(В)$\")\n",
    "plt.rc('font', size=15)\n",
    "plt.xlabel(\"$I(A)$\")\n",
    "plt.grid();\n",
    "\n",
    "\n",
    "x = np.arange(0, max(expData.I) + 1,0.01)\n",
    "y = koef[0] * x + koef[1]\n",
    "\n",
    "plt.xlim(0,3)\n",
    "\n",
    "plt.plot(expData.I, expData.U, 'o', label = r\"Виміряні значення $U$\")\n",
    "plt.plot(x, y, '-', label = r\"Апроксимована залежність напруги $U$ від сили струму $А$\")\n",
    "plt.legend(loc=\"best\");\n",
    "plt.savefig(\"exp.png\")"
   ]
  },
  {
   "cell_type": "code",
   "execution_count": 49,
   "metadata": {},
   "outputs": [
    {
     "data": {
      "text/html": [
       "<div>\n",
       "<style scoped>\n",
       "    .dataframe tbody tr th:only-of-type {\n",
       "        vertical-align: middle;\n",
       "    }\n",
       "\n",
       "    .dataframe tbody tr th {\n",
       "        vertical-align: top;\n",
       "    }\n",
       "\n",
       "    .dataframe thead th {\n",
       "        text-align: right;\n",
       "    }\n",
       "</style>\n",
       "<table border=\"1\" class=\"dataframe\">\n",
       "  <thead>\n",
       "    <tr style=\"text-align: right;\">\n",
       "      <th></th>\n",
       "      <th>U0</th>\n",
       "      <th>I</th>\n",
       "      <th>U</th>\n",
       "    </tr>\n",
       "  </thead>\n",
       "  <tbody>\n",
       "    <tr>\n",
       "      <td>8</td>\n",
       "      <td>4.50</td>\n",
       "      <td>0.10</td>\n",
       "      <td>4.30</td>\n",
       "    </tr>\n",
       "    <tr>\n",
       "      <td>9</td>\n",
       "      <td>4.50</td>\n",
       "      <td>0.20</td>\n",
       "      <td>3.90</td>\n",
       "    </tr>\n",
       "    <tr>\n",
       "      <td>10</td>\n",
       "      <td>4.50</td>\n",
       "      <td>0.30</td>\n",
       "      <td>3.70</td>\n",
       "    </tr>\n",
       "    <tr>\n",
       "      <td>11</td>\n",
       "      <td>4.50</td>\n",
       "      <td>0.40</td>\n",
       "      <td>3.30</td>\n",
       "    </tr>\n",
       "    <tr>\n",
       "      <td>12</td>\n",
       "      <td>4.50</td>\n",
       "      <td>0.50</td>\n",
       "      <td>2.90</td>\n",
       "    </tr>\n",
       "    <tr>\n",
       "      <td>13</td>\n",
       "      <td>4.50</td>\n",
       "      <td>0.60</td>\n",
       "      <td>2.70</td>\n",
       "    </tr>\n",
       "    <tr>\n",
       "      <td>14</td>\n",
       "      <td>4.50</td>\n",
       "      <td>0.75</td>\n",
       "      <td>2.25</td>\n",
       "    </tr>\n",
       "  </tbody>\n",
       "</table>\n",
       "</div>"
      ],
      "text/plain": [
       "     U0    I    U\n",
       "8  4.50 0.10 4.30\n",
       "9  4.50 0.20 3.90\n",
       "10 4.50 0.30 3.70\n",
       "11 4.50 0.40 3.30\n",
       "12 4.50 0.50 2.90\n",
       "13 4.50 0.60 2.70\n",
       "14 4.50 0.75 2.25"
      ]
     },
     "execution_count": 49,
     "metadata": {},
     "output_type": "execute_result"
    }
   ],
   "source": [
    "batteryData"
   ]
  },
  {
   "cell_type": "code",
   "execution_count": 50,
   "metadata": {},
   "outputs": [
    {
     "data": {
      "text/html": [
       "<div>\n",
       "<style scoped>\n",
       "    .dataframe tbody tr th:only-of-type {\n",
       "        vertical-align: middle;\n",
       "    }\n",
       "\n",
       "    .dataframe tbody tr th {\n",
       "        vertical-align: top;\n",
       "    }\n",
       "\n",
       "    .dataframe thead th {\n",
       "        text-align: right;\n",
       "    }\n",
       "</style>\n",
       "<table border=\"1\" class=\"dataframe\">\n",
       "  <thead>\n",
       "    <tr style=\"text-align: right;\">\n",
       "      <th></th>\n",
       "      <th>U0</th>\n",
       "      <th>I</th>\n",
       "      <th>U</th>\n",
       "      <th>Re</th>\n",
       "      <th>Ri</th>\n",
       "      <th>Pi</th>\n",
       "      <th>Pe</th>\n",
       "      <th>P0</th>\n",
       "      <th>Iz</th>\n",
       "      <th>Pe0</th>\n",
       "      <th>Pi0</th>\n",
       "      <th>PP0</th>\n",
       "      <th>n</th>\n",
       "    </tr>\n",
       "  </thead>\n",
       "  <tbody>\n",
       "    <tr>\n",
       "      <td>8</td>\n",
       "      <td>4.50</td>\n",
       "      <td>0.10</td>\n",
       "      <td>4.30</td>\n",
       "      <td>43.00</td>\n",
       "      <td>2.00</td>\n",
       "      <td>0.02</td>\n",
       "      <td>0.43</td>\n",
       "      <td>10.12</td>\n",
       "      <td>2.25</td>\n",
       "      <td>0.04</td>\n",
       "      <td>0.00</td>\n",
       "      <td>0.04</td>\n",
       "      <td>4.44</td>\n",
       "    </tr>\n",
       "    <tr>\n",
       "      <td>9</td>\n",
       "      <td>4.50</td>\n",
       "      <td>0.20</td>\n",
       "      <td>3.90</td>\n",
       "      <td>19.50</td>\n",
       "      <td>3.00</td>\n",
       "      <td>0.12</td>\n",
       "      <td>0.78</td>\n",
       "      <td>6.75</td>\n",
       "      <td>1.50</td>\n",
       "      <td>0.12</td>\n",
       "      <td>0.02</td>\n",
       "      <td>0.13</td>\n",
       "      <td>13.33</td>\n",
       "    </tr>\n",
       "    <tr>\n",
       "      <td>10</td>\n",
       "      <td>4.50</td>\n",
       "      <td>0.30</td>\n",
       "      <td>3.70</td>\n",
       "      <td>12.33</td>\n",
       "      <td>2.67</td>\n",
       "      <td>0.24</td>\n",
       "      <td>1.11</td>\n",
       "      <td>7.59</td>\n",
       "      <td>1.69</td>\n",
       "      <td>0.15</td>\n",
       "      <td>0.03</td>\n",
       "      <td>0.18</td>\n",
       "      <td>17.78</td>\n",
       "    </tr>\n",
       "    <tr>\n",
       "      <td>11</td>\n",
       "      <td>4.50</td>\n",
       "      <td>0.40</td>\n",
       "      <td>3.30</td>\n",
       "      <td>8.25</td>\n",
       "      <td>3.00</td>\n",
       "      <td>0.48</td>\n",
       "      <td>1.32</td>\n",
       "      <td>6.75</td>\n",
       "      <td>1.50</td>\n",
       "      <td>0.20</td>\n",
       "      <td>0.07</td>\n",
       "      <td>0.27</td>\n",
       "      <td>26.67</td>\n",
       "    </tr>\n",
       "    <tr>\n",
       "      <td>12</td>\n",
       "      <td>4.50</td>\n",
       "      <td>0.50</td>\n",
       "      <td>2.90</td>\n",
       "      <td>5.80</td>\n",
       "      <td>3.20</td>\n",
       "      <td>0.80</td>\n",
       "      <td>1.45</td>\n",
       "      <td>6.33</td>\n",
       "      <td>1.41</td>\n",
       "      <td>0.23</td>\n",
       "      <td>0.13</td>\n",
       "      <td>0.36</td>\n",
       "      <td>35.56</td>\n",
       "    </tr>\n",
       "    <tr>\n",
       "      <td>13</td>\n",
       "      <td>4.50</td>\n",
       "      <td>0.60</td>\n",
       "      <td>2.70</td>\n",
       "      <td>4.50</td>\n",
       "      <td>3.00</td>\n",
       "      <td>1.08</td>\n",
       "      <td>1.62</td>\n",
       "      <td>6.75</td>\n",
       "      <td>1.50</td>\n",
       "      <td>0.24</td>\n",
       "      <td>0.16</td>\n",
       "      <td>0.40</td>\n",
       "      <td>40.00</td>\n",
       "    </tr>\n",
       "    <tr>\n",
       "      <td>14</td>\n",
       "      <td>4.50</td>\n",
       "      <td>0.75</td>\n",
       "      <td>2.25</td>\n",
       "      <td>3.00</td>\n",
       "      <td>3.00</td>\n",
       "      <td>1.69</td>\n",
       "      <td>1.69</td>\n",
       "      <td>6.75</td>\n",
       "      <td>1.50</td>\n",
       "      <td>0.25</td>\n",
       "      <td>0.25</td>\n",
       "      <td>0.50</td>\n",
       "      <td>50.00</td>\n",
       "    </tr>\n",
       "  </tbody>\n",
       "</table>\n",
       "</div>"
      ],
      "text/plain": [
       "     U0    I    U    Re   Ri   Pi   Pe    P0   Iz  Pe0  Pi0  PP0     n\n",
       "8  4.50 0.10 4.30 43.00 2.00 0.02 0.43 10.12 2.25 0.04 0.00 0.04  4.44\n",
       "9  4.50 0.20 3.90 19.50 3.00 0.12 0.78  6.75 1.50 0.12 0.02 0.13 13.33\n",
       "10 4.50 0.30 3.70 12.33 2.67 0.24 1.11  7.59 1.69 0.15 0.03 0.18 17.78\n",
       "11 4.50 0.40 3.30  8.25 3.00 0.48 1.32  6.75 1.50 0.20 0.07 0.27 26.67\n",
       "12 4.50 0.50 2.90  5.80 3.20 0.80 1.45  6.33 1.41 0.23 0.13 0.36 35.56\n",
       "13 4.50 0.60 2.70  4.50 3.00 1.08 1.62  6.75 1.50 0.24 0.16 0.40 40.00\n",
       "14 4.50 0.75 2.25  3.00 3.00 1.69 1.69  6.75 1.50 0.25 0.25 0.50 50.00"
      ]
     },
     "execution_count": 50,
     "metadata": {},
     "output_type": "execute_result"
    }
   ],
   "source": [
    "batteryData['Re'] = batteryData.apply(lambda row: row['U'] / row['I'], axis=1)\n",
    "batteryData['Ri'] = batteryData.apply(lambda row: (row['U0'] - row['I']*row['Re']) / row['I'], axis=1)\n",
    "batteryData['Pi'] = batteryData.apply(lambda row: row['I']**2 * row['Ri'], axis=1)\n",
    "batteryData['Pe'] = batteryData.apply(lambda row: row['I']**2 * row['Re'], axis = 1)\n",
    "batteryData['P0'] = batteryData.apply(lambda row: row['U0']**2 / row['Ri'], axis = 1)\n",
    "batteryData['Iz'] = batteryData.apply(lambda row: row['U0'] / row['Ri'], axis = 1)\n",
    "batteryData['Pe0'] = batteryData.apply(lambda row: row['Pe'] / row['P0'], axis = 1)\n",
    "batteryData['Pi0'] = batteryData.apply(lambda row: row['Pi'] / row['P0'] , axis = 1)\n",
    "batteryData['PP0'] = batteryData.apply(lambda row: (row['Pi'] + row['Pe']) / row['P0'] , axis = 1)\n",
    "batteryData['n'] = batteryData.apply(lambda row: (row['Pi'] + row['Pe']) / row['P0'] * 100, axis = 1)\n",
    "batteryData"
   ]
  },
  {
   "cell_type": "code",
   "execution_count": 51,
   "metadata": {},
   "outputs": [
    {
     "name": "stdout",
     "output_type": "stream",
     "text": [
      "[-3.1624714   4.58043478]\n"
     ]
    }
   ],
   "source": [
    "basis = np.vstack((batteryData.I,np.ones(len(batteryData)))).T\n",
    "koef = scipy.linalg.lstsq(basis, batteryData.U)[0]\n",
    "print(koef)"
   ]
  },
  {
   "cell_type": "code",
   "execution_count": 52,
   "metadata": {},
   "outputs": [
    {
     "name": "stdout",
     "output_type": "stream",
     "text": [
      "1.4483719247467446\n"
     ]
    }
   ],
   "source": [
    "x0 = -koef[1]/koef[0]\n",
    "print(x0)"
   ]
  },
  {
   "cell_type": "code",
   "execution_count": 53,
   "metadata": {},
   "outputs": [
    {
     "data": {
      "image/png": "[encoded data removed]",
      "text/plain": [
       "<Figure size 936x504 with 1 Axes>"
      ]
     },
     "metadata": {
      "needs_background": "light"
     },
     "output_type": "display_data"
    }
   ],
   "source": [
    "plt.figure(figsize = (13,7))\n",
    "plt.ylabel(\"$U(В)$\")\n",
    "plt.rc('font', size=15)\n",
    "plt.xlabel(\"$I(A)$\")\n",
    "plt.grid();\n",
    "\n",
    "\n",
    "x = np.arange(0, x0 + 1,0.01)\n",
    "y = koef[0] * x + koef[1]\n",
    "\n",
    "#plt.axis('scaled')\n",
    "plt.xlim(0,x0 + 0.5)\n",
    "plt.ylim(0, np.max(y) + 1)\n",
    "\n",
    "plt.plot(batteryData.I, batteryData.U, 'o', label = r\"Вихідні значення $U$\")\n",
    "plt.plot(x, y, '-', label = r\"Апроксимована залежність напруги $U$ від сили струму $А$\")\n",
    "plt.legend(loc=\"best\");\n",
    "plt.savefig('battery.png')"
   ]
  },
  {
   "cell_type": "code",
   "execution_count": 54,
   "metadata": {},
   "outputs": [
    {
     "data": {
      "image/png": "[encoded data removed]",
      "text/plain": [
       "<Figure size 576x576 with 1 Axes>"
      ]
     },
     "metadata": {
      "needs_background": "light"
     },
     "output_type": "display_data"
    }
   ],
   "source": [
    "plt.figure(figsize = (8,8))\n",
    "plt.ylabel(r\"$\\frac{P}{P_0}$\")\n",
    "plt.rc('font', size=20)\n",
    "plt.xlabel(r\"$\\frac{R_i}{R_e}$\")\n",
    "plt.grid();\n",
    "\n",
    "\n",
    "#plt.axis('scaled')\n",
    "plt.xlim(left=0)\n",
    "plt.ylim(0, np.max(batteryData['PP0'])+ 0.5)\n",
    "\n",
    "from scipy.interpolate import make_interp_spline, BSpline\n",
    "\n",
    "plt.yticks([0, 0.2, 0.25, 0.4, 0.5, 0.6, 0.8, 1])\n",
    "\n",
    "x = [0]\n",
    "y = [0]\n",
    "z = [0]\n",
    "u = [0]\n",
    "x = np.append(x, batteryData.apply(lambda row: row['Ri'] / row['Re'], axis = 1))\n",
    "y = np.append(y, batteryData['Pe0'])\n",
    "z = np.append(z, batteryData['Pi0'])\n",
    "u = np.append(u, batteryData['PP0'])\n",
    "\n",
    "#plt.plot(batteryData.I, batteryData.U, 'o', label = r\"Вихідні значення $U$\")\n",
    "plt.plot(x, y, '-', label = r\"$\\frac{P_e}{P_0}$\")\n",
    "plt.plot(x, z, '-', label = r\"$\\frac{P_i}{P_0}$\")\n",
    "plt.plot(x, u, '-', label = r\"$\\frac{P_e+P_i}{P_0}$\")\n",
    "plt.plot(x, y, 'o')\n",
    "plt.plot(x, z, 'o')\n",
    "plt.plot(x, u, 'o')\n",
    "plt.legend(loc=\"best\");\n",
    "plt.savefig('p.png')"
   ]
  },
  {
   "cell_type": "code",
   "execution_count": 55,
   "metadata": {},
   "outputs": [
    {
     "name": "stdout",
     "output_type": "stream",
     "text": [
      "[0.         0.04651163 0.15384615 0.21621622 0.36363636 0.55172414\n",
      " 0.66666667 1.        ]\n"
     ]
    }
   ],
   "source": [
    "print(x)"
   ]
  },
  {
   "cell_type": "code",
   "execution_count": null,
   "metadata": {},
   "outputs": [],
   "source": []
  }
 ],
 "metadata": {
  "kernelspec": {
   "display_name": "PhysicsLabs",
   "language": "python",
   "name": "physicslabs"
  },
  "language_info": {
   "codemirror_mode": {
    "name": "ipython",
    "version": 3
   },
   "file_extension": ".py",
   "mimetype": "text/x-python",
   "name": "python",
   "nbconvert_exporter": "python",
   "pygments_lexer": "ipython3",
   "version": "3.6.8"
  }
 },
 "nbformat": 4,
 "nbformat_minor": 4
}
