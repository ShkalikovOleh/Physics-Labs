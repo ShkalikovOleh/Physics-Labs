{
 "cells": [
  {
   "cell_type": "code",
   "execution_count": 94,
   "metadata": {},
   "outputs": [],
   "source": [
    "%matplotlib inline\n",
    "import matplotlib.pyplot as plt\n",
    "import pandas as pd\n",
    "import numpy as np\n",
    "import scipy.linalg\n",
    "pd.options.mode.chained_assignment = None"
   ]
  },
  {
   "cell_type": "code",
   "execution_count": 95,
   "metadata": {},
   "outputs": [
    {
     "data": {
      "text/html": [
       "<div>\n",
       "<style scoped>\n",
       "    .dataframe tbody tr th:only-of-type {\n",
       "        vertical-align: middle;\n",
       "    }\n",
       "\n",
       "    .dataframe tbody tr th {\n",
       "        vertical-align: top;\n",
       "    }\n",
       "\n",
       "    .dataframe thead th {\n",
       "        text-align: right;\n",
       "    }\n",
       "</style>\n",
       "<table border=\"1\" class=\"dataframe\">\n",
       "  <thead>\n",
       "    <tr style=\"text-align: right;\">\n",
       "      <th></th>\n",
       "      <th>U0</th>\n",
       "      <th>I</th>\n",
       "      <th>U</th>\n",
       "    </tr>\n",
       "  </thead>\n",
       "  <tbody>\n",
       "    <tr>\n",
       "      <td>0</td>\n",
       "      <td>12.12</td>\n",
       "      <td>0.25</td>\n",
       "      <td>12.120</td>\n",
       "    </tr>\n",
       "    <tr>\n",
       "      <td>1</td>\n",
       "      <td>12.12</td>\n",
       "      <td>0.50</td>\n",
       "      <td>12.110</td>\n",
       "    </tr>\n",
       "    <tr>\n",
       "      <td>2</td>\n",
       "      <td>12.12</td>\n",
       "      <td>0.75</td>\n",
       "      <td>12.090</td>\n",
       "    </tr>\n",
       "    <tr>\n",
       "      <td>3</td>\n",
       "      <td>12.12</td>\n",
       "      <td>1.00</td>\n",
       "      <td>12.080</td>\n",
       "    </tr>\n",
       "    <tr>\n",
       "      <td>4</td>\n",
       "      <td>12.12</td>\n",
       "      <td>1.25</td>\n",
       "      <td>12.070</td>\n",
       "    </tr>\n",
       "    <tr>\n",
       "      <td>5</td>\n",
       "      <td>12.12</td>\n",
       "      <td>1.50</td>\n",
       "      <td>12.050</td>\n",
       "    </tr>\n",
       "    <tr>\n",
       "      <td>6</td>\n",
       "      <td>12.12</td>\n",
       "      <td>1.75</td>\n",
       "      <td>12.044</td>\n",
       "    </tr>\n",
       "    <tr>\n",
       "      <td>7</td>\n",
       "      <td>12.12</td>\n",
       "      <td>2.00</td>\n",
       "      <td>12.030</td>\n",
       "    </tr>\n",
       "    <tr>\n",
       "      <td>8</td>\n",
       "      <td>4.50</td>\n",
       "      <td>0.10</td>\n",
       "      <td>4.300</td>\n",
       "    </tr>\n",
       "    <tr>\n",
       "      <td>9</td>\n",
       "      <td>4.50</td>\n",
       "      <td>0.20</td>\n",
       "      <td>3.900</td>\n",
       "    </tr>\n",
       "    <tr>\n",
       "      <td>10</td>\n",
       "      <td>4.50</td>\n",
       "      <td>0.30</td>\n",
       "      <td>3.700</td>\n",
       "    </tr>\n",
       "    <tr>\n",
       "      <td>11</td>\n",
       "      <td>4.50</td>\n",
       "      <td>0.40</td>\n",
       "      <td>3.300</td>\n",
       "    </tr>\n",
       "    <tr>\n",
       "      <td>12</td>\n",
       "      <td>4.50</td>\n",
       "      <td>0.50</td>\n",
       "      <td>2.900</td>\n",
       "    </tr>\n",
       "    <tr>\n",
       "      <td>13</td>\n",
       "      <td>4.50</td>\n",
       "      <td>0.60</td>\n",
       "      <td>2.700</td>\n",
       "    </tr>\n",
       "    <tr>\n",
       "      <td>14</td>\n",
       "      <td>4.50</td>\n",
       "      <td>0.75</td>\n",
       "      <td>2.250</td>\n",
       "    </tr>\n",
       "  </tbody>\n",
       "</table>\n",
       "</div>"
      ],
      "text/plain": [
       "       U0     I       U\n",
       "0   12.12  0.25  12.120\n",
       "1   12.12  0.50  12.110\n",
       "2   12.12  0.75  12.090\n",
       "3   12.12  1.00  12.080\n",
       "4   12.12  1.25  12.070\n",
       "5   12.12  1.50  12.050\n",
       "6   12.12  1.75  12.044\n",
       "7   12.12  2.00  12.030\n",
       "8    4.50  0.10   4.300\n",
       "9    4.50  0.20   3.900\n",
       "10   4.50  0.30   3.700\n",
       "11   4.50  0.40   3.300\n",
       "12   4.50  0.50   2.900\n",
       "13   4.50  0.60   2.700\n",
       "14   4.50  0.75   2.250"
      ]
     },
     "execution_count": 95,
     "metadata": {},
     "output_type": "execute_result"
    }
   ],
   "source": [
    "df = pd.read_csv(\"Data3.csv\")\n",
    "df"
   ]
  },
  {
   "cell_type": "code",
   "execution_count": 96,
   "metadata": {},
   "outputs": [],
   "source": [
    "expData = df[df.U0 == 12.12]\n",
    "batteryData = df[df.U0 == 4.5]"
   ]
  },
  {
   "cell_type": "code",
   "execution_count": 97,
   "metadata": {},
   "outputs": [
    {
     "data": {
      "text/html": [
       "<div>\n",
       "<style scoped>\n",
       "    .dataframe tbody tr th:only-of-type {\n",
       "        vertical-align: middle;\n",
       "    }\n",
       "\n",
       "    .dataframe tbody tr th {\n",
       "        vertical-align: top;\n",
       "    }\n",
       "\n",
       "    .dataframe thead th {\n",
       "        text-align: right;\n",
       "    }\n",
       "</style>\n",
       "<table border=\"1\" class=\"dataframe\">\n",
       "  <thead>\n",
       "    <tr style=\"text-align: right;\">\n",
       "      <th></th>\n",
       "      <th>U0</th>\n",
       "      <th>I</th>\n",
       "      <th>U</th>\n",
       "    </tr>\n",
       "  </thead>\n",
       "  <tbody>\n",
       "    <tr>\n",
       "      <td>0</td>\n",
       "      <td>12.12</td>\n",
       "      <td>0.25</td>\n",
       "      <td>12.120</td>\n",
       "    </tr>\n",
       "    <tr>\n",
       "      <td>1</td>\n",
       "      <td>12.12</td>\n",
       "      <td>0.50</td>\n",
       "      <td>12.110</td>\n",
       "    </tr>\n",
       "    <tr>\n",
       "      <td>2</td>\n",
       "      <td>12.12</td>\n",
       "      <td>0.75</td>\n",
       "      <td>12.090</td>\n",
       "    </tr>\n",
       "    <tr>\n",
       "      <td>3</td>\n",
       "      <td>12.12</td>\n",
       "      <td>1.00</td>\n",
       "      <td>12.080</td>\n",
       "    </tr>\n",
       "    <tr>\n",
       "      <td>4</td>\n",
       "      <td>12.12</td>\n",
       "      <td>1.25</td>\n",
       "      <td>12.070</td>\n",
       "    </tr>\n",
       "    <tr>\n",
       "      <td>5</td>\n",
       "      <td>12.12</td>\n",
       "      <td>1.50</td>\n",
       "      <td>12.050</td>\n",
       "    </tr>\n",
       "    <tr>\n",
       "      <td>6</td>\n",
       "      <td>12.12</td>\n",
       "      <td>1.75</td>\n",
       "      <td>12.044</td>\n",
       "    </tr>\n",
       "    <tr>\n",
       "      <td>7</td>\n",
       "      <td>12.12</td>\n",
       "      <td>2.00</td>\n",
       "      <td>12.030</td>\n",
       "    </tr>\n",
       "  </tbody>\n",
       "</table>\n",
       "</div>"
      ],
      "text/plain": [
       "      U0     I       U\n",
       "0  12.12  0.25  12.120\n",
       "1  12.12  0.50  12.110\n",
       "2  12.12  0.75  12.090\n",
       "3  12.12  1.00  12.080\n",
       "4  12.12  1.25  12.070\n",
       "5  12.12  1.50  12.050\n",
       "6  12.12  1.75  12.044\n",
       "7  12.12  2.00  12.030"
      ]
     },
     "execution_count": 97,
     "metadata": {},
     "output_type": "execute_result"
    }
   ],
   "source": [
    "expData"
   ]
  },
  {
   "cell_type": "code",
   "execution_count": 98,
   "metadata": {},
   "outputs": [
    {
     "name": "stdout",
     "output_type": "stream",
     "text": [
      "[-0.05190476 12.13264286]\n"
     ]
    }
   ],
   "source": [
    "basis = np.vstack((expData.I,np.ones(len(expData)))).T\n",
    "koef = scipy.linalg.lstsq(basis, expData.U)[0]\n",
    "print(koef)"
   ]
  },
  {
   "cell_type": "code",
   "execution_count": 99,
   "metadata": {},
   "outputs": [
    {
     "name": "stdout",
     "output_type": "stream",
     "text": [
      "233.74816513762258\n"
     ]
    }
   ],
   "source": [
    "x0 = -koef[1]/koef[0]\n",
    "print(x0)"
   ]
  },
  {
   "cell_type": "code",
   "execution_count": 100,
   "metadata": {},
   "outputs": [
    {
     "data": {
      "image/png": "[encoded data removed]",
      "text/plain": [
       "<Figure size 936x504 with 1 Axes>"
      ]
     },
     "metadata": {
      "needs_background": "light"
     },
     "output_type": "display_data"
    }
   ],
   "source": [
    "plt.figure(figsize = (13,7))\n",
    "plt.ylabel(\"$U(В)$\")\n",
    "plt.rc('font', size=15)\n",
    "plt.xlabel(\"$I(A)$\")\n",
    "plt.grid();\n",
    "\n",
    "\n",
    "x = np.arange(0, x0 + 1,0.01)\n",
    "y = koef[0] * x + koef[1]\n",
    "\n",
    "plt.xlim(0,x0 + 50)\n",
    "plt.ylim(0, 14)\n",
    "\n",
    "plt.plot(x, y, '-', label = r\"Апроксимована залежність напруги $U$ від сили струму $А$\")\n",
    "plt.legend(loc=\"best\");"
   ]
  },
  {
   "cell_type": "code",
   "execution_count": 101,
   "metadata": {},
   "outputs": [
    {
     "data": {
      "image/png": "[encoded data removed]",
      "text/plain": [
       "<Figure size 936x504 with 1 Axes>"
      ]
     },
     "metadata": {
      "needs_background": "light"
     },
     "output_type": "display_data"
    }
   ],
   "source": [
    "plt.figure(figsize = (13,7))\n",
    "plt.ylabel(\"$U(В)$\")\n",
    "plt.rc('font', size=15)\n",
    "plt.xlabel(\"$I(A)$\")\n",
    "plt.grid();\n",
    "\n",
    "\n",
    "x = np.arange(0, max(expData.I) + 1,0.01)\n",
    "y = koef[0] * x + koef[1]\n",
    "\n",
    "plt.xlim(0,3)\n",
    "\n",
    "plt.plot(expData.I, expData.U, 'o', label = r\"Виміряні значення $U$\")\n",
    "plt.plot(x, y, '-', label = r\"Апроксимована залежність напруги $U$ від сили струму $А$\")\n",
    "plt.legend(loc=\"best\");"
   ]
  },
  {
   "cell_type": "code",
   "execution_count": 102,
   "metadata": {},
   "outputs": [
    {
     "data": {
      "text/html": [
       "<div>\n",
       "<style scoped>\n",
       "    .dataframe tbody tr th:only-of-type {\n",
       "        vertical-align: middle;\n",
       "    }\n",
       "\n",
       "    .dataframe tbody tr th {\n",
       "        vertical-align: top;\n",
       "    }\n",
       "\n",
       "    .dataframe thead th {\n",
       "        text-align: right;\n",
       "    }\n",
       "</style>\n",
       "<table border=\"1\" class=\"dataframe\">\n",
       "  <thead>\n",
       "    <tr style=\"text-align: right;\">\n",
       "      <th></th>\n",
       "      <th>U0</th>\n",
       "      <th>I</th>\n",
       "      <th>U</th>\n",
       "    </tr>\n",
       "  </thead>\n",
       "  <tbody>\n",
       "    <tr>\n",
       "      <td>8</td>\n",
       "      <td>4.5</td>\n",
       "      <td>0.10</td>\n",
       "      <td>4.30</td>\n",
       "    </tr>\n",
       "    <tr>\n",
       "      <td>9</td>\n",
       "      <td>4.5</td>\n",
       "      <td>0.20</td>\n",
       "      <td>3.90</td>\n",
       "    </tr>\n",
       "    <tr>\n",
       "      <td>10</td>\n",
       "      <td>4.5</td>\n",
       "      <td>0.30</td>\n",
       "      <td>3.70</td>\n",
       "    </tr>\n",
       "    <tr>\n",
       "      <td>11</td>\n",
       "      <td>4.5</td>\n",
       "      <td>0.40</td>\n",
       "      <td>3.30</td>\n",
       "    </tr>\n",
       "    <tr>\n",
       "      <td>12</td>\n",
       "      <td>4.5</td>\n",
       "      <td>0.50</td>\n",
       "      <td>2.90</td>\n",
       "    </tr>\n",
       "    <tr>\n",
       "      <td>13</td>\n",
       "      <td>4.5</td>\n",
       "      <td>0.60</td>\n",
       "      <td>2.70</td>\n",
       "    </tr>\n",
       "    <tr>\n",
       "      <td>14</td>\n",
       "      <td>4.5</td>\n",
       "      <td>0.75</td>\n",
       "      <td>2.25</td>\n",
       "    </tr>\n",
       "  </tbody>\n",
       "</table>\n",
       "</div>"
      ],
      "text/plain": [
       "     U0     I     U\n",
       "8   4.5  0.10  4.30\n",
       "9   4.5  0.20  3.90\n",
       "10  4.5  0.30  3.70\n",
       "11  4.5  0.40  3.30\n",
       "12  4.5  0.50  2.90\n",
       "13  4.5  0.60  2.70\n",
       "14  4.5  0.75  2.25"
      ]
     },
     "execution_count": 102,
     "metadata": {},
     "output_type": "execute_result"
    }
   ],
   "source": [
    "batteryData"
   ]
  },
  {
   "cell_type": "code",
   "execution_count": 103,
   "metadata": {},
   "outputs": [
    {
     "data": {
      "text/html": [
       "<div>\n",
       "<style scoped>\n",
       "    .dataframe tbody tr th:only-of-type {\n",
       "        vertical-align: middle;\n",
       "    }\n",
       "\n",
       "    .dataframe tbody tr th {\n",
       "        vertical-align: top;\n",
       "    }\n",
       "\n",
       "    .dataframe thead th {\n",
       "        text-align: right;\n",
       "    }\n",
       "</style>\n",
       "<table border=\"1\" class=\"dataframe\">\n",
       "  <thead>\n",
       "    <tr style=\"text-align: right;\">\n",
       "      <th></th>\n",
       "      <th>U0</th>\n",
       "      <th>I</th>\n",
       "      <th>U</th>\n",
       "      <th>Re</th>\n",
       "      <th>Ri</th>\n",
       "      <th>Pi</th>\n",
       "      <th>Pe</th>\n",
       "      <th>P0</th>\n",
       "      <th>Iz</th>\n",
       "      <th>Pe0</th>\n",
       "      <th>Pi0</th>\n",
       "      <th>PP0</th>\n",
       "      <th>n</th>\n",
       "    </tr>\n",
       "  </thead>\n",
       "  <tbody>\n",
       "    <tr>\n",
       "      <td>8</td>\n",
       "      <td>4.5</td>\n",
       "      <td>0.10</td>\n",
       "      <td>4.30</td>\n",
       "      <td>43.000000</td>\n",
       "      <td>2.000000</td>\n",
       "      <td>0.0200</td>\n",
       "      <td>0.4300</td>\n",
       "      <td>10.125000</td>\n",
       "      <td>2.25000</td>\n",
       "      <td>0.042469</td>\n",
       "      <td>0.001975</td>\n",
       "      <td>0.044444</td>\n",
       "      <td>4.246914</td>\n",
       "    </tr>\n",
       "    <tr>\n",
       "      <td>9</td>\n",
       "      <td>4.5</td>\n",
       "      <td>0.20</td>\n",
       "      <td>3.90</td>\n",
       "      <td>19.500000</td>\n",
       "      <td>3.000000</td>\n",
       "      <td>0.1200</td>\n",
       "      <td>0.7800</td>\n",
       "      <td>6.750000</td>\n",
       "      <td>1.50000</td>\n",
       "      <td>0.115556</td>\n",
       "      <td>0.017778</td>\n",
       "      <td>0.133333</td>\n",
       "      <td>11.555556</td>\n",
       "    </tr>\n",
       "    <tr>\n",
       "      <td>10</td>\n",
       "      <td>4.5</td>\n",
       "      <td>0.30</td>\n",
       "      <td>3.70</td>\n",
       "      <td>12.333333</td>\n",
       "      <td>2.666667</td>\n",
       "      <td>0.2400</td>\n",
       "      <td>1.1100</td>\n",
       "      <td>7.593750</td>\n",
       "      <td>1.68750</td>\n",
       "      <td>0.146173</td>\n",
       "      <td>0.031605</td>\n",
       "      <td>0.177778</td>\n",
       "      <td>14.617284</td>\n",
       "    </tr>\n",
       "    <tr>\n",
       "      <td>11</td>\n",
       "      <td>4.5</td>\n",
       "      <td>0.40</td>\n",
       "      <td>3.30</td>\n",
       "      <td>8.250000</td>\n",
       "      <td>3.000000</td>\n",
       "      <td>0.4800</td>\n",
       "      <td>1.3200</td>\n",
       "      <td>6.750000</td>\n",
       "      <td>1.50000</td>\n",
       "      <td>0.195556</td>\n",
       "      <td>0.071111</td>\n",
       "      <td>0.266667</td>\n",
       "      <td>19.555556</td>\n",
       "    </tr>\n",
       "    <tr>\n",
       "      <td>12</td>\n",
       "      <td>4.5</td>\n",
       "      <td>0.50</td>\n",
       "      <td>2.90</td>\n",
       "      <td>5.800000</td>\n",
       "      <td>3.200000</td>\n",
       "      <td>0.8000</td>\n",
       "      <td>1.4500</td>\n",
       "      <td>6.328125</td>\n",
       "      <td>1.40625</td>\n",
       "      <td>0.229136</td>\n",
       "      <td>0.126420</td>\n",
       "      <td>0.355556</td>\n",
       "      <td>22.913580</td>\n",
       "    </tr>\n",
       "    <tr>\n",
       "      <td>13</td>\n",
       "      <td>4.5</td>\n",
       "      <td>0.60</td>\n",
       "      <td>2.70</td>\n",
       "      <td>4.500000</td>\n",
       "      <td>3.000000</td>\n",
       "      <td>1.0800</td>\n",
       "      <td>1.6200</td>\n",
       "      <td>6.750000</td>\n",
       "      <td>1.50000</td>\n",
       "      <td>0.240000</td>\n",
       "      <td>0.160000</td>\n",
       "      <td>0.400000</td>\n",
       "      <td>24.000000</td>\n",
       "    </tr>\n",
       "    <tr>\n",
       "      <td>14</td>\n",
       "      <td>4.5</td>\n",
       "      <td>0.75</td>\n",
       "      <td>2.25</td>\n",
       "      <td>3.000000</td>\n",
       "      <td>3.000000</td>\n",
       "      <td>1.6875</td>\n",
       "      <td>1.6875</td>\n",
       "      <td>6.750000</td>\n",
       "      <td>1.50000</td>\n",
       "      <td>0.250000</td>\n",
       "      <td>0.250000</td>\n",
       "      <td>0.500000</td>\n",
       "      <td>25.000000</td>\n",
       "    </tr>\n",
       "  </tbody>\n",
       "</table>\n",
       "</div>"
      ],
      "text/plain": [
       "     U0     I     U         Re        Ri      Pi      Pe         P0       Iz  \\\n",
       "8   4.5  0.10  4.30  43.000000  2.000000  0.0200  0.4300  10.125000  2.25000   \n",
       "9   4.5  0.20  3.90  19.500000  3.000000  0.1200  0.7800   6.750000  1.50000   \n",
       "10  4.5  0.30  3.70  12.333333  2.666667  0.2400  1.1100   7.593750  1.68750   \n",
       "11  4.5  0.40  3.30   8.250000  3.000000  0.4800  1.3200   6.750000  1.50000   \n",
       "12  4.5  0.50  2.90   5.800000  3.200000  0.8000  1.4500   6.328125  1.40625   \n",
       "13  4.5  0.60  2.70   4.500000  3.000000  1.0800  1.6200   6.750000  1.50000   \n",
       "14  4.5  0.75  2.25   3.000000  3.000000  1.6875  1.6875   6.750000  1.50000   \n",
       "\n",
       "         Pe0       Pi0       PP0          n  \n",
       "8   0.042469  0.001975  0.044444   4.246914  \n",
       "9   0.115556  0.017778  0.133333  11.555556  \n",
       "10  0.146173  0.031605  0.177778  14.617284  \n",
       "11  0.195556  0.071111  0.266667  19.555556  \n",
       "12  0.229136  0.126420  0.355556  22.913580  \n",
       "13  0.240000  0.160000  0.400000  24.000000  \n",
       "14  0.250000  0.250000  0.500000  25.000000  "
      ]
     },
     "execution_count": 103,
     "metadata": {},
     "output_type": "execute_result"
    }
   ],
   "source": [
    "batteryData['Re'] = batteryData.apply(lambda row: row['U'] / row['I'], axis=1)\n",
    "batteryData['Ri'] = batteryData.apply(lambda row: (row['U0'] - row['I']*row['Re']) / row['I'], axis=1)\n",
    "batteryData['Pi'] = batteryData.apply(lambda row: row['I']**2 * row['Ri'], axis=1)\n",
    "batteryData['Pe'] = batteryData.apply(lambda row: row['I']**2 * row['Re'], axis = 1)\n",
    "batteryData['P0'] = batteryData.apply(lambda row: row['U0']**2 / row['Ri'], axis = 1)\n",
    "batteryData['Iz'] = batteryData.apply(lambda row: row['U0'] / row['Ri'], axis = 1)\n",
    "batteryData['Pe0'] = batteryData.apply(lambda row: row['Pe'] / row['P0'], axis = 1)\n",
    "batteryData['Pi0'] = batteryData.apply(lambda row: row['Pi'] / row['P0'] , axis = 1)\n",
    "batteryData['PP0'] = batteryData.apply(lambda row: (row['Pi'] + row['Pe']) / row['P0'] , axis = 1)\n",
    "batteryData['n'] = batteryData.apply(lambda row: row['Pe0'] * 100, axis = 1)\n",
    "batteryData"
   ]
  },
  {
   "cell_type": "code",
   "execution_count": 104,
   "metadata": {},
   "outputs": [
    {
     "name": "stdout",
     "output_type": "stream",
     "text": [
      "[-3.1624714   4.58043478]\n"
     ]
    }
   ],
   "source": [
    "basis = np.vstack((batteryData.I,np.ones(len(batteryData)))).T\n",
    "koef = scipy.linalg.lstsq(basis, batteryData.U)[0]\n",
    "print(koef)"
   ]
  },
  {
   "cell_type": "code",
   "execution_count": 105,
   "metadata": {},
   "outputs": [
    {
     "name": "stdout",
     "output_type": "stream",
     "text": [
      "1.4483719247467446\n"
     ]
    }
   ],
   "source": [
    "x0 = -koef[1]/koef[0]\n",
    "print(x0)"
   ]
  },
  {
   "cell_type": "code",
   "execution_count": 106,
   "metadata": {},
   "outputs": [
    {
     "data": {
      "image/png": "[encoded data removed]",
      "text/plain": [
       "<Figure size 936x504 with 1 Axes>"
      ]
     },
     "metadata": {
      "needs_background": "light"
     },
     "output_type": "display_data"
    }
   ],
   "source": [
    "plt.figure(figsize = (13,7))\n",
    "plt.ylabel(\"$U(В)$\")\n",
    "plt.rc('font', size=15)\n",
    "plt.xlabel(\"$I(A)$\")\n",
    "plt.grid();\n",
    "\n",
    "\n",
    "x = np.arange(0, x0 + 1,0.01)\n",
    "y = koef[0] * x + koef[1]\n",
    "\n",
    "#plt.axis('scaled')\n",
    "plt.xlim(0,x0 + 0.5)\n",
    "plt.ylim(0, np.max(y) + 1)\n",
    "\n",
    "plt.plot(batteryData.I, batteryData.U, 'o', label = r\"Вихідні значення $U$\")\n",
    "plt.plot(x, y, '-', label = r\"Апроксимована залежність напруги $U$ від сили струму $А$\")\n",
    "plt.legend(loc=\"best\");"
   ]
  },
  {
   "cell_type": "code",
   "execution_count": 107,
   "metadata": {},
   "outputs": [
    {
     "data": {
      "image/png": "[encoded data removed]",
      "text/plain": [
       "<Figure size 936x576 with 1 Axes>"
      ]
     },
     "metadata": {
      "needs_background": "light"
     },
     "output_type": "display_data"
    }
   ],
   "source": [
    "plt.figure(figsize = (13,8))\n",
    "plt.ylabel(r\"$\\frac{P}{P_0}$\")\n",
    "plt.rc('font', size=20)\n",
    "plt.xlabel(r\"$\\frac{R_i}{R_e}$\")\n",
    "plt.grid();\n",
    "\n",
    "\n",
    "#plt.axis('scaled')\n",
    "plt.xlim(left=0)\n",
    "plt.ylim(0, np.max(batteryData['PP0'])+ 0.5)\n",
    "\n",
    "from scipy.interpolate import make_interp_spline, BSpline\n",
    "\n",
    "plt.yticks([0, 0.2, 0.25, 0.4, 0.5, 0.6, 0.8, 1])\n",
    "\n",
    "x = [0]\n",
    "y = [0]\n",
    "z = [0]\n",
    "u = [0]\n",
    "x = np.append(x, batteryData.apply(lambda row: row['Ri'] / row['Re'], axis = 1))\n",
    "y = np.append(y, batteryData['Pe0'])\n",
    "z = np.append(z, batteryData['Pi0'])\n",
    "u = np.append(u, batteryData['PP0'])\n",
    "\n",
    "#plt.plot(batteryData.I, batteryData.U, 'o', label = r\"Вихідні значення $U$\")\n",
    "plt.plot(x, y, '-', label = r\"$\\frac{P_e}{P_0}$\")\n",
    "plt.plot(x, z, '-', label = r\"$\\frac{P_i}{P_0}$\")\n",
    "plt.plot(x, u, '-', label = r\"$\\frac{P_e+P_i}{P_0}$\")\n",
    "plt.plot(x, y, 'o')\n",
    "plt.plot(x, z, 'o')\n",
    "plt.plot(x, u, 'o')\n",
    "plt.legend(loc=\"best\");"
   ]
  }
 ],
 "metadata": {
  "kernelspec": {
   "display_name": "PhysicsLabs",
   "language": "python",
   "name": "physicslabs"
  },
  "language_info": {
   "codemirror_mode": {
    "name": "ipython",
    "version": 3
   },
   "file_extension": ".py",
   "mimetype": "text/x-python",
   "name": "python",
   "nbconvert_exporter": "python",
   "pygments_lexer": "ipython3",
   "version": "3.6.8"
  }
 },
 "nbformat": 4,
 "nbformat_minor": 4
}
