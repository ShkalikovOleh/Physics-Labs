{
 "cells": [
  {
   "cell_type": "markdown",
   "metadata": {},
   "source": [
    "# Вивчення законів збереження енергії та імпульсу для зіткнення куль\n",
    "### Лабораторна робота № 1\n",
    "\n",
    "Виконав студент групи ФІ-81 *Шкаліков Олег Володимирович*  \n",
    "Перевірив *Димитрієва Наталія Федорівна*"
   ]
  },
  {
   "cell_type": "markdown",
   "metadata": {},
   "source": [
    "**Мета**: на прикладі зіткнення куль перевірити закони збереження  \n",
    "**Завдання**:\n",
    "- виміряти кути відхилення куль\n",
    "- розрахувати коефіцієнт розсіювання енергії\n",
    "- розрахувати співвідношення мас куль"
   ]
  },
  {
   "cell_type": "markdown",
   "metadata": {},
   "source": [
    "## Теоретична частина"
   ]
  },
  {
   "cell_type": "markdown",
   "metadata": {},
   "source": [
    "![](Lab2.png)  \n",
    "Підвішена на нитці куля, масою $m_1$, відвена на кут $\\alpha_1$, падає на кулю масою $m_2$, яка знаходиться у положенні рівноваги. Внаслідок закону збереження енергії друга куля відхиляється на кут $\\alpha_2$. Причому частина енергії розсіюється. В даній роботі вимірюється коефіцієнт розсіяння енергії, який дорівняє:\n",
    "$$\\beta = \\frac{E_{початкова} - E_{кінцева}}{E_{початкова}} \\Rightarrow E_{кінцева} = (1-\\beta)E_{початкова}$$\n",
    "Крайні точки траекторії розташовані на певнії висоті($h_1$ та $h_2$ відповідно) від рівня рівноваги. У них швидкість дорівнює нулю, тому закон збереження енергії приймає натупний вид:\n",
    "$$m_2gh_2 = (1-\\beta)m_1gh_1$$\n",
    "Використовуючи тригонометричні співвідношення виразимо висоти через довжину нитки.\n",
    "$$h_1 = l(1 - \\cos{\\alpha_1}), h_2 = l(1 - \\cos{\\alpha_2})$$\n",
    "Отже,\n",
    "$$m_2gl(1 - \\cos{\\alpha_2}) = (1-\\beta)m_1gl(1 - \\cos{\\alpha_1})$$\n",
    "Якщо взяти однаккові кулі, тобто $m = m_1 = m_2$ отримаємо вираз, що пов'язує кути відхилення з коефіцієнт розсіяння енергії.\n",
    "$$mgl(1 - \\cos{\\alpha_2}) = (1-\\beta)mgl(1 - \\cos{\\alpha_1})$$\n",
    "$$1-\\beta = \\frac{1 - \\cos{\\alpha_2}}{1 - \\cos{\\alpha_1}} \\Rightarrow \\beta = 1 - \\frac{1 - \\cos{\\alpha_2}}{1 - \\cos{\\alpha_1}}$$\n",
    "Тому для обрахунку значення коефіцієнта розсіяння енергії візьмемо дві кулі однакової маси та будемо вимірювати кути відхилення.  \n",
    "\n",
    "Застосуємо знайдений $\\beta$ для обчислення відношення масс будь-яких куль, що мають виміряні кути відхилення. Не важко переконатися, що з закону збереження енергії випливає наступне співвідношення:\n",
    "$$m_2gl(1 - \\cos{\\alpha_2}) = (1-\\beta)m_1gl(1 - \\cos{\\alpha_1}) \\Rightarrow \\frac{m_1}{m_2} = \\frac{1 - \\cos{\\alpha_2}}{(1-\\beta)(1 - \\cos{\\alpha_1})}$$"
   ]
  },
  {
   "cell_type": "markdown",
   "metadata": {},
   "source": [
    "## Практична частина"
   ]
  },
  {
   "cell_type": "markdown",
   "metadata": {},
   "source": [
    "Для обрахунку, перетворення та візуалізації результатів експерименту будемо використовувати бібліотеки Pandas та Numpy"
   ]
  },
  {
   "cell_type": "code",
   "execution_count": 196,
   "metadata": {},
   "outputs": [],
   "source": [
    "import pandas as pd\n",
    "import numpy as np"
   ]
  },
  {
   "cell_type": "markdown",
   "metadata": {},
   "source": [
    "Вивантажимо дані експерименту, збережені у csv файлі, та поділимо на чотири набори даних за типом:\n",
    "1. \"велика\" куля падає на \"велику\"\n",
    "2. \"маленька\" куля падає на \"маленька\"\n",
    "3. \"маленька\" куля падає на \"велику\"\n",
    "4. \"велика\" куля падає на \"маленьку\"  \n",
    "Усього було зроблено по 3 заміри з різним початковим кутом відзилення $\\alpha_1$ для кожного типу експерименту.  \n",
    "Також, для підвишення точності експерименту, дані для кожного кута відхилення $\\alpha_1$ було виміряно 5 разів. Для отримання значення для конкретного кута з цих даних візьмемо середнє-арифметичне отриманих кутів. Загалом було отримано 60 значень."
   ]
  },
  {
   "cell_type": "code",
   "execution_count": 136,
   "metadata": {},
   "outputs": [],
   "source": [
    "df = pd.read_csv(\"Lab2.csv\")\n",
    "df['α1'] = df.apply(lambda row: np.radians(row['α1']), axis=1)\n",
    "df['α2'] = df.apply(lambda row: np.radians(row['α2']), axis=1)\n",
    "df.columns = ['a1','a2','type']\n",
    "BB = df[df['type'] == 1][['a1','a2']]\n",
    "BB = BB.groupby(['a1'], as_index = False).mean()\n",
    "SS = df[df['type'] == 2][['a1','a2']]\n",
    "SS = SS.groupby(['a1'], as_index = False).mean()\n",
    "SB = df[df['type'] == 3][['a1','a2']]\n",
    "SB = SB.groupby(['a1'], as_index = False).mean()\n",
    "BS = df[df['type'] == 4][['a1','a2']]\n",
    "BS = BS.groupby(['a1'], as_index = False).mean()"
   ]
  },
  {
   "cell_type": "code",
   "execution_count": 112,
   "metadata": {},
   "outputs": [],
   "source": [
    "def calculateBeta(alpha1, alpha2):\n",
    "    ones = np.ones(len(alpha1))\n",
    "    a = ones-np.cos(alpha2)\n",
    "    b = ones-np.cos(alpha1)\n",
    "    return ones - np.divide(a,b)"
   ]
  },
  {
   "cell_type": "markdown",
   "metadata": {},
   "source": [
    "Обчислимо коефіцієнта розсіяння енергії для експериментів з однаковими кулями:\n",
    "1. \"велика\" куля падає на \"велику\"\n",
    "2. \"маленька\" куля падає на \"маленька\""
   ]
  },
  {
   "cell_type": "code",
   "execution_count": 115,
   "metadata": {},
   "outputs": [
    {
     "name": "stdout",
     "output_type": "stream",
     "text": [
      "0.15278523093584798\n",
      "0.25809575928391765\n"
     ]
    }
   ],
   "source": [
    "betaBB = calculateBeta(BB['a1'], BB['a2']);\n",
    "betaSS = calculateBeta(SS['a1'], SS['a2']);\n",
    "print(betaBB.mean())\n",
    "print(betaSS.mean())"
   ]
  },
  {
   "cell_type": "markdown",
   "metadata": {},
   "source": [
    "Ми отримали суттєво різні значення:\n",
    "1. \"велика\" куля падає на \"велику\": $\\beta \\approx 0.15$\n",
    "2. \"маленька\" куля падає на \"маленька\": $\\beta \\approx 0.26$\n",
    "\n",
    "тому надалі, будемо проводити по два обрахунки для кожного зі значень $\\beta$"
   ]
  },
  {
   "cell_type": "markdown",
   "metadata": {},
   "source": [
    "Обчислимо відношення мас для типів експерименту:\n",
    "3. \"маленька\" куля падає на \"велику\"\n",
    "4. \"велика\" куля падає на \"маленьку\""
   ]
  },
  {
   "cell_type": "code",
   "execution_count": 79,
   "metadata": {},
   "outputs": [],
   "source": [
    "def calculateMassRelation(alpha1, alpha2, beta):\n",
    "    ones = np.ones(len(alpha1))\n",
    "    a = ones - np.cos(alpha2)\n",
    "    b = (1-beta)*(ones - np.cos(alpha1))    \n",
    "    return np.divide(a,b)"
   ]
  },
  {
   "cell_type": "markdown",
   "metadata": {},
   "source": [
    "Для значення $\\beta \\approx 0.15$"
   ]
  },
  {
   "cell_type": "code",
   "execution_count": 207,
   "metadata": {},
   "outputs": [
    {
     "name": "stdout",
     "output_type": "stream",
     "text": [
      "1.5587535197769675\n",
      "1.3194390093656352\n",
      "0.5561524832268313\n"
     ]
    }
   ],
   "source": [
    "BSMassBBRel = calculateMassRelation(BS['a1'], BS['a2'], betaBB)\n",
    "SBMassBBRel = calculateMassRelation(SB['a1'], SB['a2'], betaBB)\n",
    "MassBBRel = (BSMassBBRel.mean() + 1 / SBMassBBRel.mean()) / 2 \n",
    "\n",
    "print(MassBBRel)\n",
    "print(BSMassBBRel.mean())\n",
    "print(SBMassBBRel.mean())"
   ]
  },
  {
   "cell_type": "markdown",
   "metadata": {},
   "source": [
    "Було обраховано результати для усіх початкових кутів відхилення та взято середньо-арифметичне по кожному типу експерименту:\n",
    "- \"маленька\" куля падає на \"велику\": $\\frac{m_1}{m_2} \\approx 0.56$\n",
    "- \"велика\" куля падає на \"маленьку\": $\\frac{m_1}{m_2} \\approx 1.32$\n",
    "\n",
    "Середнім арифметичним відношення масс \"великої\" та  \"маленької\" кулі є: $\\approx 1.56$"
   ]
  },
  {
   "cell_type": "markdown",
   "metadata": {},
   "source": [
    "Для значення $\\beta \\approx 0.26$"
   ]
  },
  {
   "cell_type": "code",
   "execution_count": 213,
   "metadata": {},
   "outputs": [
    {
     "name": "stdout",
     "output_type": "stream",
     "text": [
      "1.5587535197769675\n",
      "1.5058609383007333\n",
      "0.635149381833433\n"
     ]
    }
   ],
   "source": [
    "BSMassSSRel = calculateMassRelation(BS['a1'], BS['a2'], betaSS)\n",
    "SBMassSSRel = calculateMassRelation(SB['a1'], SB['a2'], betaSS)\n",
    "MassSSRel = (BSMassSSRel.mean() + 1 / SBMassSSRel.mean()) / 2 \n",
    "\n",
    "print(MassBBRel)\n",
    "print(BSMassSSRel.mean())\n",
    "print(SBMassSSRel.mean())"
   ]
  },
  {
   "cell_type": "markdown",
   "metadata": {},
   "source": [
    "По аналогії з попередніми викладками, було обраховано результати для усіх початкових кутів відхилення та взято середньо-арифметичне по кожному типу експерименту:\n",
    "- \"маленька\" куля падає на \"велику\": $\\frac{m_1}{m_2} \\approx 0.64$\n",
    "- \"велика\" куля падає на \"маленьку\": $\\frac{m_1}{m_2} \\approx 1.51$\n",
    "\n",
    "Середнім арифметичним відношення масс \"великої\" та  \"маленької\" кулі є: $\\approx 1.56$"
   ]
  },
  {
   "cell_type": "markdown",
   "metadata": {},
   "source": [
    "Обрахуємо систематичну похибку величини $\\beta$\n",
    "$$\\beta = 1 - \\frac{1-\\cos{\\alpha_2}}{1-\\cos{\\alpha_1}}$$\n",
    "Знайдемо частинні похідні:\n",
    "$$\\frac{\\partial \\beta}{\\partial \\alpha_1} = \\frac{(1-\\cos{\\alpha_2})\\sin{\\alpha_1}}{(1-\\cos{\\alpha_1})^2}$$\n",
    "$$\\frac{\\partial \\beta}{\\partial \\alpha_2} = -\\frac{\\sin{\\alpha_2}}{1-\\cos{\\alpha_1}}$$\n",
    "Підставимо у співвідношення систематичної похибки\n",
    "$$\\Delta \\beta = \\sqrt{\\left(\\Delta \\alpha_1 \\frac{\\partial \\beta}{\\partial \\alpha_1}\\right)^2 + \\left(\\Delta \\alpha_1 \\frac{\\partial \\beta}{\\partial \\alpha_2}\\right)^2} = \\sqrt{\\left(\\Delta \\alpha_1 \\frac{(1-\\cos{\\alpha_2})\\sin{\\alpha_1}}{(1-\\cos{\\alpha_1})^2}\\right)^2 + \\left(- \\Delta \\alpha_2 \\frac{\\sin{\\alpha_2}}{1-\\cos{\\alpha_1}}\\right)^2}$$\n",
    "Та відносне відхилення $\\delta$. Для $\\beta$ - це: $$\\delta = \\frac{\\Delta \\beta}{\\beta}$$"
   ]
  },
  {
   "cell_type": "code",
   "execution_count": 182,
   "metadata": {},
   "outputs": [],
   "source": [
    "def systematicBetaError(alpha1, alpha2, deltaAlpha1, deltaAlpha2):\n",
    "    a1 = alpha1.mean()\n",
    "    a2 = alpha2.mean()\n",
    "    da1 = (1 - np.cos(a2)) * np.sin(a1) / np.power((1 - np.cos(a1)),2)\n",
    "    da2 = np.sin(a2) / (1 - np.cos(a1))\n",
    "    return np.sqrt(np.power((da1*deltaAlpha1),2) + np.power((da2*deltaAlpha2),2))\n",
    "    \n",
    "def relError(delta, values):\n",
    "    return delta / values.mean()"
   ]
  },
  {
   "cell_type": "markdown",
   "metadata": {},
   "source": [
    "Для $\\Delta \\alpha_1 = \\Delta \\alpha_2 = 0.25^o$ обчислимо систематичну похибку:"
   ]
  },
  {
   "cell_type": "code",
   "execution_count": 210,
   "metadata": {},
   "outputs": [
    {
     "name": "stdout",
     "output_type": "stream",
     "text": [
      "0.05731531435402155\n",
      "0.3751364840891415\n",
      "0.2220699577282553\n"
     ]
    }
   ],
   "source": [
    "experimentsBetaData = pd.concat([BB, SS])\n",
    "sysBetaError = systematicBetaError(experimentsBetaData['a1'], experimentsBetaData['a2'], np.radians(0.25), np.radians(0.25))\n",
    "relBBBetaError = relError(sysBetaError, betaBB)\n",
    "relSSBetaError = relError(sysBetaError, betaSS)\n",
    "print(sysBetaError)\n",
    "print(relBBBetaError)\n",
    "print(relSSBetaError)"
   ]
  },
  {
   "cell_type": "markdown",
   "metadata": {},
   "source": [
    "Отримаємо: \n",
    "- систематична похибка $\\Delta \\beta  \\approx 0.06$\n",
    "- відносна похибка для $\\beta \\approx 0.15$: $\\delta \\approx 0.38 (38\\%)$\n",
    "- відносна похибка для $\\beta \\approx 0.26$: $\\delta \\approx 0.22 (22\\%)$"
   ]
  },
  {
   "cell_type": "markdown",
   "metadata": {},
   "source": [
    "Знайдемо систематичну похибку відношення масс(для зручності операцій введемо позначення $\\sigma$)\n",
    "$$\\sigma = \\frac{m_1}{m_2} = \\frac{(1-\\beta)(1-\\cos{\\alpha_1})}{1-\\cos{\\alpha_2}}$$\n",
    "Знаходимо частинні похідні\n",
    "$$\\frac{\\partial \\sigma}{\\partial \\beta} = \\frac{\\beta (1-\\cos{\\alpha_2})}{(1-\\beta)^2 (1-\\cos{\\alpha_1})}$$\n",
    "$$\\frac{\\partial \\sigma}{\\partial \\alpha_1} = - \\frac{(1-\\cos{\\alpha_2})\\sin{\\alpha_1}}{(1-\\beta)(1-\\cos{\\alpha_1})^2}$$\n",
    "$$\\frac{\\partial \\sigma}{\\partial \\alpha_2} = \\frac{\\sin{\\alpha_2}}{(1-\\beta)(1-\\cos{\\alpha_1})}$$\n",
    "Підставляємо у формулу систематичної похибки. Зауважимо, що $\\beta$ - це конкрентне значення, яке було знайдено з попередніх експериментів, тому воно не залежить від виміряних у цих роботах значень кутів.\n",
    "$$\\Delta \\sigma = \\Delta \\frac{m_1}{m_2} = \\sqrt{\\left(\\Delta \\beta \\frac{\\partial \\sigma}{\\partial \\beta}  \\right)^2 + \\left(\\Delta \\alpha_1 \\frac{\\partial \\sigma}{\\partial \\alpha_1} \\right)^2 + \\left(\\Delta \\alpha_2 \\frac{\\partial \\sigma}{\\partial \\alpha_2} \\right)^2}$$\n",
    "$$\\Delta \\sigma = \\Delta \\frac{m_1}{m_2} = \\sqrt{\\left(\\Delta \\beta  \\frac{\\beta (1-\\cos{\\alpha_2})}{(1-\\beta)^2 (1-\\cos{\\alpha_1})} \\right)^2 + \\left(- \\Delta \\alpha_1 \\frac{(1-\\cos{\\alpha_2})\\sin{\\alpha_1}}{(1-\\beta)(1-\\cos{\\alpha_1})^2} \\right)^2 + \\left(\\Delta \\alpha_2 \\frac{\\sin{\\alpha_2}}{(1-\\beta)(1-\\cos{\\alpha_1})} \\right)^2}$$"
   ]
  },
  {
   "cell_type": "code",
   "execution_count": 184,
   "metadata": {},
   "outputs": [],
   "source": [
    "def systematicMassError(beta, alpha1, alpha2, deltaBeta, deltaAlpha1, deltaAlpha2):\n",
    "    a1 = alpha1.mean()\n",
    "    a2 = alpha2.mean()\n",
    "    dbeta = beta * (1 - np.cos(a2)) / np.power((1 - beta),2) / (1 - np.cos(a1))\n",
    "    da1 = (1 - np.cos(a2)) * np.sin(a1) / np.power((1 - np.cos(a1)),2) / (1-beta)\n",
    "    da2 = np.sin(a2) / (1 - np.cos(a1)) / (1-beta)\n",
    "    return np.sqrt(np.power((dbeta*deltaBeta),2) +  np.power((da1*deltaAlpha1),2) + np.power((da2*deltaAlpha2),2))"
   ]
  },
  {
   "cell_type": "markdown",
   "metadata": {},
   "source": [
    "Для $\\Delta \\alpha_1 = \\Delta \\alpha_2 = 0.25^o$ обчислимо систематичну похибку.\n",
    "Отримаємо два значення: для $\\beta \\approx 0.15$ та $\\beta \\approx 0.26$"
   ]
  },
  {
   "cell_type": "code",
   "execution_count": 216,
   "metadata": {},
   "outputs": [
    {
     "name": "stdout",
     "output_type": "stream",
     "text": [
      "0.07124479864315271\n",
      "0.08311575932175651\n",
      "0.04570626320275876\n",
      "0.05396612610247427\n"
     ]
    }
   ],
   "source": [
    "experimentsMassData = pd.concat([BS, SB])\n",
    "sysMassBBError = systematicMassError(betaBB.mean(),experimentsMassData['a1'], experimentsMassData['a2'], sysBetaError ,np.radians(0.25), np.radians(0.25))\n",
    "sysMassSSError = systematicMassError(betaSS.mean(),experimentsMassData['a1'], experimentsMassData['a2'], sysBetaError ,np.radians(0.25), np.radians(0.25))\n",
    "relMassBBError = relError(sysMassBBError, MassBBRel)\n",
    "relMassSSError = relError(sysMassSSError, MassSSRel)\n",
    "print(sysMassBBError)\n",
    "print(sysMassSSError)\n",
    "print(relMassBBError)\n",
    "print(relMassSSError)"
   ]
  },
  {
   "cell_type": "markdown",
   "metadata": {},
   "source": [
    "Результати обчислення похибки для різних випадків:\n",
    "- при $\\beta \\approx 0.15$ \n",
    "     - систематична похибка : $\\Delta \\frac{m_1}{m_2} \\approx 0.07$\n",
    "     - відносна похибка: $\\delta \\approx 0.05(5\\%)$\n",
    "- при$\\beta \\approx 0.26$\n",
    "    - систематична похибка : $\\Delta \\frac{m_1}{m_2} \\approx 0.08$\n",
    "    - відносна похибка: $\\delta \\approx 0.05(5\\%)$"
   ]
  },
  {
   "cell_type": "markdown",
   "metadata": {},
   "source": [
    "## Висновок"
   ]
  },
  {
   "cell_type": "markdown",
   "metadata": {},
   "source": [
    "Отже, було продемонстровано закон збереження енергії на прикладі куль, що зіштовхуються. Були обраховані значення:\n",
    "- коефіцієнту розсіяння енергії, що для різних куль з одного матеріалу набув істотно різних значень(для експериментів типу 1: $\\beta \\approx 0.15 \\pm 0.6$,для експериментів типу 2: $\\beta \\approx 0.26 \\pm 0.06$), що можливо пояснити неточністю вимірів.\n",
    "- співвідношення мас \"великої\" та \"маленької\" кулі: \n",
    "    - при $\\beta \\approx 0.15$: $ \\frac{m_1}{m_2} = 1.56 \\pm 0.07 $\n",
    "    - при $\\beta \\approx 0.26$: $ \\frac{m_1}{m_2} = 1.56 \\pm 0.08 $"
   ]
  }
 ],
 "metadata": {
  "kernelspec": {
   "display_name": "PhysicsEnv",
   "language": "python",
   "name": "physicsenv"
  },
  "language_info": {
   "codemirror_mode": {
    "name": "ipython",
    "version": 3
   },
   "file_extension": ".py",
   "mimetype": "text/x-python",
   "name": "python",
   "nbconvert_exporter": "python",
   "pygments_lexer": "ipython3",
   "version": "3.6.7"
  }
 },
 "nbformat": 4,
 "nbformat_minor": 2
}
