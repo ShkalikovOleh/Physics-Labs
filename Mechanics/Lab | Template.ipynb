{
 "cells": [
  {
   "cell_type": "markdown",
   "metadata": {},
   "source": [
    "# Назва\n",
    "### Лабораторна робота №\n",
    "\n",
    "Виконав студент групи ФІ-81 *Шкаліков Олег Володимирович*  \n",
    "Перевірив *Димитрієва Наталія Федорівна*"
   ]
  },
  {
   "cell_type": "markdown",
   "metadata": {},
   "source": [
    "**Мета**:  \n",
    "**Завдання**:\n",
    "- завдання 1"
   ]
  },
  {
   "cell_type": "markdown",
   "metadata": {},
   "source": [
    "## Теоретична частина"
   ]
  },
  {
   "cell_type": "markdown",
   "metadata": {},
   "source": [
    "## Практична частина"
   ]
  },
  {
   "cell_type": "markdown",
   "metadata": {},
   "source": [
    "Для обрахунку, перетворення та візуалізації результатів експерименту будемо використовувати бібліотеки Pandas, Scipy, Numpy та Matplotlib"
   ]
  },
  {
   "cell_type": "code",
   "execution_count": 2,
   "metadata": {},
   "outputs": [],
   "source": [
    "%matplotlib inline\n",
    "import pandas as pd\n",
    "import scipy.linalg\n",
    "import numpy as np\n",
    "import matplotlib.pyplot as plt"
   ]
  },
  {
   "cell_type": "markdown",
   "metadata": {},
   "source": [
    "Вивантажимо дані експерименту, збережені у csv файлі, та представимо їх у вигляді таблиці"
   ]
  },
  {
   "cell_type": "code",
   "execution_count": null,
   "metadata": {},
   "outputs": [],
   "source": [
    "df = pd.read_csv(\"Lab__.csv\")\n",
    "df"
   ]
  },
  {
   "cell_type": "markdown",
   "metadata": {},
   "source": [
    "Отримаємо: \n",
    "- абсолютна похибка $\\Delta name \\approx value$\n",
    "- відносна похибка отриманого та теоретичного значення $g$: $\\delta \\approx value$"
   ]
  },
  {
   "cell_type": "markdown",
   "metadata": {},
   "source": [
    "## Висновок"
   ]
  },
  {
   "cell_type": "markdown",
   "metadata": {},
   "source": [
    "Отже,"
   ]
  }
 ],
 "metadata": {
  "kernelspec": {
   "display_name": "PhysicsEnv",
   "language": "python",
   "name": "physicsenv"
  },
  "language_info": {
   "codemirror_mode": {
    "name": "ipython",
    "version": 3
   },
   "file_extension": ".py",
   "mimetype": "text/x-python",
   "name": "python",
   "nbconvert_exporter": "python",
   "pygments_lexer": "ipython3",
   "version": "3.6.7"
  }
 },
 "nbformat": 4,
 "nbformat_minor": 2
}
