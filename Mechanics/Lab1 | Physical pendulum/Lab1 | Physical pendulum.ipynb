{
 "cells": [
  {
   "cell_type": "markdown",
   "metadata": {},
   "source": [
    "# Вивчення фізичного маятника \n",
    "### Лабораторна робота №4\n",
    "\n",
    "Виконав студент групи ФІ-81 *Шкаліков Олег Володимирович*  \n",
    "Перевірив *Димитрієва Наталія Федорівна*"
   ]
  },
  {
   "cell_type": "markdown",
   "metadata": {},
   "source": [
    "**Мета**: Визначення прискорення вільного падіння за допомогою оборотного маятника  \n",
    "**Завдання**: \n",
    "- Виміряти період $T$, вимірявши час 5-10 коливань\n",
    "- Виміряти довжину нитки математичного маятника, період коливань якого співпадає з фізичним\n",
    "- Знайти прискорення вільного падіння $g$"
   ]
  },
  {
   "cell_type": "markdown",
   "metadata": {},
   "source": [
    "## Теоретична частина"
   ]
  },
  {
   "cell_type": "markdown",
   "metadata": {},
   "source": [
    "Фізичним маятником називають будь-яке тверде тіло, яке може вільно обертатись навколо горизонтальної осі під дією сили тяжіння. Рух будь-якого маятника описується рівнянням(1)\n",
    "$$M = J{\\partial^2\\phi \\over \\partial t^2}$$\n",
    ", де $J$ - момент інерції маятника, $\\phi$ - кут відхилення центра мас маятника від положення рівноваги, $M$ - момент сил, що діють на маятник, $t$ - час. \n",
    "![](PhysicsM.png)\n",
    "Наприклад, для однорідного стержня довжиною $l$ за теоремою Гюйгенса-Штейнера момент інерції дорівнює:\n",
    "$$J = ms^2 + {ml^2\\over12}$$\n",
    ", де $m$ - масса маятника, $s$ - відстань між центром мас та віссю обертання.  \n",
    "Момент сили тяжіння, що діє на маятник можна розрахувати за формулою\n",
    "$$M = -smg\\sin\\phi$$\n",
    "Якщо кут $\\phi$ - малий, тоді $\\sin \\phi \\approx \\phi$, отже \n",
    "$$M \\approx -smg \\phi$$\n",
    "Добре налагоджений маятник може зробити кілька сот коливань коливань без помітного згасання, тому моментом сили тертя в першому наближенні можна знехтувати. Підставляючи вираз для $M$ в (1), отримаємо рівняння для коливань(2):\n",
    "$$\\phi'' + \\omega^2\\phi = 0$$\n",
    "з частотою(3)\n",
    "$$\\omega = \\sqrt{mgs\\over J}$$\n",
    "Рівняння (2) описує гармонічні коливання, що відбуваєтся за законом $\\phi(t) = A \\sin(\\omega t + \\theta)$. Амплітуда коливань $A$ та їх фаза $\\theta$ залежать від способу збудження коливань, тобто від початкових умов. Власна частота коливань $\\omega$ згідно з (3), визначається тільки параметрами маятника $J$ та $s$.  \n",
    "Період коливань фізичного маятника $T = {2\\pi \\over \\omega}$, як і його частота, не залежить від фази та амплітуди коливань і дорівнює(4)\n",
    "$$T = 2\\pi \\sqrt{J\\over mgs}$$\n",
    "Рух маятника описуэться рівнянням гармонічних коливань(2) лише за умови малих коливань($\\sin \\phi \\approx \\phi$). Якщо ввсети позначення $L={J \\over ms}$, то формула буде мати такий вигляд, як і формула для математичного маятника(5)\n",
    "$$T = 2\\pi\\sqrt{L \\over g}$$"
   ]
  },
  {
   "cell_type": "markdown",
   "metadata": {},
   "source": [
    "## Практична частина"
   ]
  },
  {
   "cell_type": "markdown",
   "metadata": {},
   "source": [
    "Для обрахунку, перетворення та візуалізації результатів експерименту будемо використовувати бібліотеки Pandas, Scipy, Numpy та Matplotlib"
   ]
  },
  {
   "cell_type": "code",
   "execution_count": 2,
   "metadata": {},
   "outputs": [],
   "source": [
    "%matplotlib inline\n",
    "import pandas as pd\n",
    "import scipy.linalg\n",
    "import numpy as np\n",
    "import matplotlib.pyplot as plt"
   ]
  },
  {
   "cell_type": "markdown",
   "metadata": {},
   "source": [
    "Вивантажимо дані експерименту, збережені у csv файлі, та представимо їх у вигляді таблиці"
   ]
  },
  {
   "cell_type": "code",
   "execution_count": 3,
   "metadata": {},
   "outputs": [
    {
     "data": {
      "text/html": [
       "<div>\n",
       "<style scoped>\n",
       "    .dataframe tbody tr th:only-of-type {\n",
       "        vertical-align: middle;\n",
       "    }\n",
       "\n",
       "    .dataframe tbody tr th {\n",
       "        vertical-align: top;\n",
       "    }\n",
       "\n",
       "    .dataframe thead th {\n",
       "        text-align: right;\n",
       "    }\n",
       "</style>\n",
       "<table border=\"1\" class=\"dataframe\">\n",
       "  <thead>\n",
       "    <tr style=\"text-align: right;\">\n",
       "      <th></th>\n",
       "      <th>N</th>\n",
       "      <th>t(с)</th>\n",
       "      <th>s(см)</th>\n",
       "      <th>L(см)</th>\n",
       "    </tr>\n",
       "  </thead>\n",
       "  <tbody>\n",
       "    <tr>\n",
       "      <td>0</td>\n",
       "      <td>11</td>\n",
       "      <td>11.169</td>\n",
       "      <td>17.0</td>\n",
       "      <td>25.3</td>\n",
       "    </tr>\n",
       "    <tr>\n",
       "      <td>1</td>\n",
       "      <td>11</td>\n",
       "      <td>11.177</td>\n",
       "      <td>17.0</td>\n",
       "      <td>25.3</td>\n",
       "    </tr>\n",
       "    <tr>\n",
       "      <td>2</td>\n",
       "      <td>14</td>\n",
       "      <td>14.220</td>\n",
       "      <td>17.0</td>\n",
       "      <td>25.3</td>\n",
       "    </tr>\n",
       "    <tr>\n",
       "      <td>3</td>\n",
       "      <td>11</td>\n",
       "      <td>11.173</td>\n",
       "      <td>17.0</td>\n",
       "      <td>25.3</td>\n",
       "    </tr>\n",
       "    <tr>\n",
       "      <td>4</td>\n",
       "      <td>8</td>\n",
       "      <td>8.360</td>\n",
       "      <td>18.0</td>\n",
       "      <td>24.7</td>\n",
       "    </tr>\n",
       "    <tr>\n",
       "      <td>5</td>\n",
       "      <td>11</td>\n",
       "      <td>11.489</td>\n",
       "      <td>18.0</td>\n",
       "      <td>24.7</td>\n",
       "    </tr>\n",
       "    <tr>\n",
       "      <td>6</td>\n",
       "      <td>11</td>\n",
       "      <td>11.477</td>\n",
       "      <td>18.0</td>\n",
       "      <td>24.7</td>\n",
       "    </tr>\n",
       "    <tr>\n",
       "      <td>7</td>\n",
       "      <td>8</td>\n",
       "      <td>9.039</td>\n",
       "      <td>22.0</td>\n",
       "      <td>31.0</td>\n",
       "    </tr>\n",
       "    <tr>\n",
       "      <td>8</td>\n",
       "      <td>8</td>\n",
       "      <td>9.046</td>\n",
       "      <td>22.0</td>\n",
       "      <td>31.0</td>\n",
       "    </tr>\n",
       "    <tr>\n",
       "      <td>9</td>\n",
       "      <td>8</td>\n",
       "      <td>9.041</td>\n",
       "      <td>22.0</td>\n",
       "      <td>31.0</td>\n",
       "    </tr>\n",
       "    <tr>\n",
       "      <td>10</td>\n",
       "      <td>8</td>\n",
       "      <td>9.646</td>\n",
       "      <td>21.5</td>\n",
       "      <td>33.0</td>\n",
       "    </tr>\n",
       "    <tr>\n",
       "      <td>11</td>\n",
       "      <td>8</td>\n",
       "      <td>9.645</td>\n",
       "      <td>21.5</td>\n",
       "      <td>33.0</td>\n",
       "    </tr>\n",
       "    <tr>\n",
       "      <td>12</td>\n",
       "      <td>8</td>\n",
       "      <td>9.658</td>\n",
       "      <td>21.5</td>\n",
       "      <td>33.0</td>\n",
       "    </tr>\n",
       "  </tbody>\n",
       "</table>\n",
       "</div>"
      ],
      "text/plain": [
       "     N    t(с)  s(см)  L(см)\n",
       "0   11  11.169   17.0   25.3\n",
       "1   11  11.177   17.0   25.3\n",
       "2   14  14.220   17.0   25.3\n",
       "3   11  11.173   17.0   25.3\n",
       "4    8   8.360   18.0   24.7\n",
       "5   11  11.489   18.0   24.7\n",
       "6   11  11.477   18.0   24.7\n",
       "7    8   9.039   22.0   31.0\n",
       "8    8   9.046   22.0   31.0\n",
       "9    8   9.041   22.0   31.0\n",
       "10   8   9.646   21.5   33.0\n",
       "11   8   9.645   21.5   33.0\n",
       "12   8   9.658   21.5   33.0"
      ]
     },
     "execution_count": 3,
     "metadata": {},
     "output_type": "execute_result"
    }
   ],
   "source": [
    "df = pd.read_csv(\"Lab1.csv\")\n",
    "df"
   ]
  },
  {
   "cell_type": "markdown",
   "metadata": {},
   "source": [
    ", де $N$ - кількість коливань, $t(c)$ - час, $s(cм)$ - довжина між центром мас та віссю коливань, $L(см)$ - довжина нитки математичного маятника, який коливається з періодом рівним періоду фізичного маятника.\n",
    "Обрахуємо середні значення колонок для рівних $L$ та приведемо дані у одиниці системи СІ та перейменуємо колонки для більш зручної роботи з ними"
   ]
  },
  {
   "cell_type": "code",
   "execution_count": 4,
   "metadata": {},
   "outputs": [
    {
     "data": {
      "text/html": [
       "<div>\n",
       "<style scoped>\n",
       "    .dataframe tbody tr th:only-of-type {\n",
       "        vertical-align: middle;\n",
       "    }\n",
       "\n",
       "    .dataframe tbody tr th {\n",
       "        vertical-align: top;\n",
       "    }\n",
       "\n",
       "    .dataframe thead th {\n",
       "        text-align: right;\n",
       "    }\n",
       "</style>\n",
       "<table border=\"1\" class=\"dataframe\">\n",
       "  <thead>\n",
       "    <tr style=\"text-align: right;\">\n",
       "      <th></th>\n",
       "      <th>L</th>\n",
       "      <th>N</th>\n",
       "      <th>t</th>\n",
       "      <th>s</th>\n",
       "      <th>T</th>\n",
       "    </tr>\n",
       "  </thead>\n",
       "  <tbody>\n",
       "    <tr>\n",
       "      <th>0</th>\n",
       "      <td>0.247</td>\n",
       "      <td>10.00</td>\n",
       "      <td>10.442000</td>\n",
       "      <td>0.180</td>\n",
       "      <td>1.044200</td>\n",
       "    </tr>\n",
       "    <tr>\n",
       "      <th>1</th>\n",
       "      <td>0.253</td>\n",
       "      <td>11.75</td>\n",
       "      <td>11.934750</td>\n",
       "      <td>0.170</td>\n",
       "      <td>1.015723</td>\n",
       "    </tr>\n",
       "    <tr>\n",
       "      <th>2</th>\n",
       "      <td>0.310</td>\n",
       "      <td>8.00</td>\n",
       "      <td>9.042000</td>\n",
       "      <td>0.220</td>\n",
       "      <td>1.130250</td>\n",
       "    </tr>\n",
       "    <tr>\n",
       "      <th>3</th>\n",
       "      <td>0.330</td>\n",
       "      <td>8.00</td>\n",
       "      <td>9.649667</td>\n",
       "      <td>0.215</td>\n",
       "      <td>1.206208</td>\n",
       "    </tr>\n",
       "  </tbody>\n",
       "</table>\n",
       "</div>"
      ],
      "text/plain": [
       "       L      N          t      s         T\n",
       "0  0.247  10.00  10.442000  0.180  1.044200\n",
       "1  0.253  11.75  11.934750  0.170  1.015723\n",
       "2  0.310   8.00   9.042000  0.220  1.130250\n",
       "3  0.330   8.00   9.649667  0.215  1.206208"
      ]
     },
     "execution_count": 4,
     "metadata": {},
     "output_type": "execute_result"
    }
   ],
   "source": [
    "df.columns = ['N','t','s','L']\n",
    "df = df.groupby([\"L\"], as_index = False).mean()\n",
    "df['T'] = df.apply(lambda row: row['t']/row['N'], axis=1)\n",
    "df['s'] = df.apply(lambda row: row['s']/100, axis=1)\n",
    "df['L'] = df.apply(lambda row: row['L']/100, axis=1)\n",
    "df"
   ]
  },
  {
   "cell_type": "markdown",
   "metadata": {},
   "source": [
    "Прискорення вільного падіння ми визначимо за допомогою фізичного та математичного маятників, використовуючи наступні співвідношення. Для визначення g за допомогою математичного маятника: $$g_{math} = {4\\pi^2l \\over T^2}$$  \n",
    ",де $l$ - довжина нитки  \n",
    "Для визначення g за допомогою фізичного маятника: $$g_{physics} = {4\\pi^2L \\over T^2}$$  \n",
    ",де $L = {J\\over ms}$ - приведена довжина фізичного маятника($J$ - момент інерції, $m$ - масса, $s$ - довжина від центру мас до осі обертання\n",
    "Якщо період коливань фізичного та математичного маятника дорівнюють один одному, то $L = l$.  \n",
    "Отже виміряємо $l$, $N$ - кількість коливань, $t$ - час, за який ці коливання було здійсненно та за допомогою методу найменших квадратів апроксимуємо лінійною функцією $L(T^2) = kT^2 + b$ залежність $L$ від $T^2$: $$L = l = {t^2\\over 4\\pi^2N^2}g = {T^2\\over 4\\pi^2}g$$\n",
    "Таким чином отриманий коефіцієнт $k$ дорівнює: $$k = {g \\over 4\\pi^2}$$\n",
    "Отже, виразимо $g$ через $k$: $$g = {4k\\pi^2}$$"
   ]
  },
  {
   "cell_type": "code",
   "execution_count": 5,
   "metadata": {},
   "outputs": [
    {
     "name": "stdout",
     "output_type": "stream",
     "text": [
      "g = 8.195768740997073\n"
     ]
    }
   ],
   "source": [
    "x = df['T'].apply(lambda x: x**2)\n",
    "y = df['L']\n",
    "basis = np.vstack((x,np.ones(4))).T\n",
    "koef = scipy.linalg.lstsq(basis, y)[0]\n",
    "print(\"g = \" + str(koef[0]*4*np.pi**2))"
   ]
  },
  {
   "cell_type": "markdown",
   "metadata": {},
   "source": [
    "Отже коефіцієнт вільного падіння $g$, отриманий за результатами експериментів з фізичним маятником: $8.2{м \\over с^2}$.  \n",
    "Візуалізуємо результат, побудувавши теоретичну залежність апроксимовану функцію на відрізку $T^2 = [1, 1.5]$"
   ]
  },
  {
   "cell_type": "code",
   "execution_count": 9,
   "metadata": {},
   "outputs": [
    {
     "data": {
      "image/png": "[encoded data removed]",
      "text/plain": [
       "<Figure size 720x360 with 1 Axes>"
      ]
     },
     "metadata": {
      "needs_background": "light"
     },
     "output_type": "display_data"
    }
   ],
   "source": [
    "xnew = np.arange(1, 1.5, 0.01)\n",
    "yideal = 9.81 / (4*np.pi**2) * xnew\n",
    "ynew = koef[0] * xnew + koef[1]\n",
    "plt.figure(figsize = (10,5))\n",
    "plt.title(\"Приведена довжина($L$) в залежності від квадрату періоду $(T^2)$\")\n",
    "plt.xlabel(\"$T^2 (с^2)$\")\n",
    "plt.rc('font', size=15)\n",
    "plt.ylabel(\"$L (м)$\")\n",
    "plt.grid();\n",
    "\n",
    "plt.plot(x, y, 'o', label = \"Результати замірів\")\n",
    "plt.plot(xnew, ynew, '-', label = \"Апроксімована залежність\")\n",
    "plt.plot(xnew, yideal, '--', label = \"Теоретична залежність\");\n",
    "plt.legend(loc=\"best\");"
   ]
  },
  {
   "cell_type": "markdown",
   "metadata": {},
   "source": [
    "Для перевірки отриманих результатів, порівняємо значення прискорення вільного падіння($g$) з експерименту та довідника.\n",
    "Для обчислення похибки використаємо систематичну абсолютну похибку, яка отримана з наступних міркувань:\n",
    "$$g = (4\\pi^2{L\\over T^2})$$\n",
    "Пролагорифмуємо цей вираз та отримаємо:\n",
    "$$\\ln g = \\ln(4\\pi^2{L\\over T^2}) = \\ln(4\\pi^2) + \\ln L + \\ln N^2 - \\ln t^2$$\n",
    "Обраховуємо дифференціал:\n",
    "$$\\partial \\ln g = \\partial \\ln (4 * \\pi^2) + \\partial \\ln L + \\partial \\ln N^2 - \\partial \\ln t^2 = \\partial \\ln L + \\partial \\ln N^2 + \\partial \\ln t^2$$  \n",
    "$${\\partial g \\over g} = {\\partial L \\over L} + {2\\partial N \\over N} + {2\\partial t \\over t}$$  \n",
    "Замінюючи дифференціали на значення похибки вимірів($\\Delta t = 0.001(с), \\Delta L = 0.01(м), \\Delta N = 0$) та значення вимірів на середнє, маємо:\n",
    "$$\\Delta g = g({\\Delta L \\over \\overline L} + {2\\Delta t \\over \\overline t})$$\n",
    "Та відносне відхилення $\\delta$. Для $g$ - це: $$\\delta = {|g_{експеримент} - g_{теоретичне}|\\over g_{теоретичне}}$$"
   ]
  },
  {
   "cell_type": "code",
   "execution_count": 7,
   "metadata": {},
   "outputs": [],
   "source": [
    "def delta(time, lenght, deltaTime, deltaLenght):\n",
    "    return koef[0] * 4*np.pi**2 * (2/time.mean()*deltaTime + 1/lenght.mean()*deltaLenght)\n",
    "#def meanSquaredDelta(time, lenght, deltaTime, deltaLenght):\n",
    "#    return koef[0] * 4 * np.pi**2 * np.sqrt((2/time.mean()*deltaTime)**2 + (1/lenght.mean()*deltaLenght)**2);"
   ]
  },
  {
   "cell_type": "code",
   "execution_count": 8,
   "metadata": {},
   "outputs": [
    {
     "name": "stdout",
     "output_type": "stream",
     "text": [
      "relError = 0.16454956768633308\n",
      "delta = 0.2891673433105003\n"
     ]
    }
   ],
   "source": [
    "delta = delta(df['t'],df['L'], 0.001, 0.01)\n",
    "#msDelta = meanSquaredDelta(df['t'], df['L'], 0.001, 0.01)\n",
    "relError = abs(koef[0] * 4*np.pi**2 - 9.81) / 9.81\n",
    "print(\"relError = \" + str(relError))\n",
    "print(\"delta = \" + str(delta))\n",
    "#print(\"msDelta = \" + str(msDelta))"
   ]
  },
  {
   "cell_type": "markdown",
   "metadata": {},
   "source": [
    "Отримаємо: \n",
    "- абсолютна похибка $\\Delta g \\approx 0.3$\n",
    "- відносна похибка отриманого та теоретичного значення $g$: $\\delta \\approx 0.16$"
   ]
  },
  {
   "cell_type": "markdown",
   "metadata": {},
   "source": [
    "## Висновок\n"
   ]
  },
  {
   "cell_type": "markdown",
   "metadata": {},
   "source": [
    "Отже, за допомогою синхронізованих(мають однаковий період коливань) математичного і фізичного маятника ми отримали значення прискорення вільного падіння $g = 8.2 \\pm 0.3 {м \\over с^2}$. Воно істотно(на $\\approx 16\\%$) відрізняється від теоретичного, що можливо пояснити різницею у періодах математичного та фізичного маятників, що спричинена неточністю вимірів та людським фактором."
   ]
  }
 ],
 "metadata": {
  "kernelspec": {
   "display_name": "PhysicsLabs",
   "language": "python",
   "name": "physicslabs"
  },
  "language_info": {
   "codemirror_mode": {
    "name": "ipython",
    "version": 3
   },
   "file_extension": ".py",
   "mimetype": "text/x-python",
   "name": "python",
   "nbconvert_exporter": "python",
   "pygments_lexer": "ipython3",
   "version": "3.6.9"
  }
 },
 "nbformat": 4,
 "nbformat_minor": 4
}
